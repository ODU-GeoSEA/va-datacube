{
 "cells": [
  {
   "cell_type": "markdown",
   "id": "b1a961b5",
   "metadata": {},
   "source": [
    "![data cube logo](https://static.wixstatic.com/media/8959d6_a13dc7ece5be4678af57c8f7c1667734~mv2.png/v1/fill/w_279,h_177,al_c,q_85,usm_0.66_1.00_0.01,enc_auto/VSDC_DataCubeSplash_6Partner_edited.png)\n",
    "# Exporting High Quality Satellite Imagery\n",
    "\n",
    " - Sign up to the [VA Datacube](https://www.data4va.org/) to run this notebook interactively from a browser\n",
    " - <b>Compatibility</b>: Notebook currently compatible with the Virginia DataCube Sandbox environments    \n",
    " - <b>Notebook Use:</b> If you would like to modify and save this notebook, please copy and paste it into your own folder on the data cube.\n",
    " - <b>Products used</b>:\n",
    "    \n",
    "    - `s2_l2a`\n",
    "    - `ls8_sr`\n",
    "    - `ls7_sr`\n",
    "    - `ls5_sr`\n",
    " \n",
    "\n",
    " \n"
   ]
  },
  {
   "cell_type": "markdown",
   "id": "26bba8c7",
   "metadata": {},
   "source": [
    "## Background\n",
    "\n",
    "\n",
    "\n",
    "The majority of case studies in this repository center around the quantitative analysis of satellite data to gain insights into Virginia's evolving environment. Nevertheless, satellite imagery serves as a potent means of visualization. Captured by satellites, these images can elucidate physical processes, showcase temporal changes, and offer crucial context to enhance our comprehension of the effects resulting from recent environmental occurrences like flooding or fire. Furthermore, satellite data can be processed to generate landscape images based on imperceptible wavelengths of light (e.g., false color images), enabling us to acquire more comprehensive understanding of features and processes that would otherwise remain hidden from human observation."
   ]
  },
  {
   "cell_type": "markdown",
   "id": "c3370de1",
   "metadata": {},
   "source": [
    "## Description\n",
    "\n",
    "This notebook provides an interactive tool for selecting, loading, processing and exporting satellite imagery as a high quality image file.\n",
    "\n",
    "1. We will first select a location on a map\n",
    "2. Then we will derive a satellite image from it and save it\n"
   ]
  },
  {
   "cell_type": "markdown",
   "id": "e0fa0ff7-fbd7-433b-8f62-4bf3bbe1ce24",
   "metadata": {},
   "source": [
    "---------------------------------------------------------------------------------------------------------------------------"
   ]
  },
  {
   "cell_type": "markdown",
   "id": "d1d817a9",
   "metadata": {},
   "source": [
    "## Getting started\n",
    "\n",
    "To run this analysis, run all the cells in the notebook, starting with the “Load packages” cell."
   ]
  },
  {
   "cell_type": "markdown",
   "id": "5881476c",
   "metadata": {},
   "source": [
    "### Load packages\n",
    "Import Python packages that are used for the analysis.\n",
    "\n",
    "Use standard import commands; some are shown below. Begin with any iPython magic commands, followed by standard Python packages, then any additional functionality you need from the Scripts directory."
   ]
  },
  {
   "cell_type": "code",
   "execution_count": 3,
   "id": "1c851db3",
   "metadata": {},
   "outputs": [],
   "source": [
    "%matplotlib inline\n",
    "\n",
    "from deafrica_tools.app.imageexport import select_region_app, export_image_app\n",
    "import datacube\n",
    "import matplotlib.pyplot as plt"
   ]
  },
  {
   "cell_type": "markdown",
   "id": "36877232",
   "metadata": {},
   "source": [
    "### Connect to the datacube\n",
    "\n",
    "Connect to the datacube so we can access DEA data. The app parameter is a unique name for the analysis which is based on the notebook file name"
   ]
  },
  {
   "cell_type": "code",
   "execution_count": 4,
   "id": "fe072223",
   "metadata": {},
   "outputs": [],
   "source": [
    "dc = datacube.Datacube(app='Exporting_highQuality_Satellite_Imagery')"
   ]
  },
  {
   "cell_type": "markdown",
   "id": "96b076c7-e4f5-4dd7-af32-d0db08b4c4cb",
   "metadata": {},
   "source": [
    "## Select Imagery"
   ]
  },
  {
   "cell_type": "markdown",
   "id": "52e0ded8",
   "metadata": {},
   "source": [
    "### Analysis parameters\n",
    "The following cell sets important required parameters used to plot and select satellite imagery on the interactive map.\n",
    " - `date`: The exact date used to display imagery on the map (e.g. date='2011-01-01').\n",
    " - `satellites`: The satellite data to be shown on the map. Five options are currently supported:\n",
    " \n",
    " <table style=\"width:70%\">\n",
    "    <tr>\n",
    "        <th>Satellite</th>\n",
    "        <th>Data</th>\n",
    "    </tr>\n",
    "    <tr>\n",
    "        <td><b>Landsat-5</b></td>\n",
    "        <td>data from Landsat-5</td>\n",
    "    </tr>\n",
    "    <tr>\n",
    "        <td><b>Landsat-7</b></td>\n",
    "        <td>data from Landsat-7</td>\n",
    "    </tr>\n",
    "    <tr>\n",
    "        <td><b>Landsat-8</b></td>\n",
    "        <td>data from Landsat-8</td>\n",
    "    </tr>\n",
    "    <tr>\n",
    "        <td><b>Sentinel-2</b></td>\n",
    "        <td>data from Sentinel-2</td>\n",
    "    </tr>\n",
    "</table>"
   ]
  },
  {
   "cell_type": "code",
   "execution_count": 5,
   "id": "eb60c43b",
   "metadata": {},
   "outputs": [],
   "source": [
    "# Required image selection parameters\n",
    "date = '2021-04-30'\n",
    "satellites = 'Sentinel-2'"
   ]
  },
  {
   "cell_type": "markdown",
   "id": "7da4ff41",
   "metadata": {},
   "source": [
    "### Select a location on a map\n",
    "\n",
    "Run the following cell to plot the interactive map that is used to select the area to load and export satellite imagery.\n",
    "\n",
    "Select the `Draw a rectangle` or `Draw a polygon tool` on the left of the map, and draw a shape around the area you are interested in. When you are ready, press the green `done` button on the top right of the map.\n",
    "\n",
    "<b>Note</b>: To keep load times reasonable, select an area smaller than <b>10000</b> square kilometers in size (this limit can be overuled by supplying the size_limit parameter in the `select_region_app` function below)."
   ]
  },
  {
   "cell_type": "code",
   "execution_count": 6,
   "id": "1ff8da02",
   "metadata": {},
   "outputs": [
    {
     "data": {
      "application/vnd.jupyter.widget-view+json": {
       "model_id": "032b52281dfd4bad9916bd3c678059a6",
       "version_major": 2,
       "version_minor": 0
      },
      "text/plain": [
       "Map(center=[4, 20], controls=(ZoomControl(options=['position', 'zoom_in_text', 'zoom_in_title', 'zoom_out_text…"
      ]
     },
     "metadata": {},
     "output_type": "display_data"
    }
   ],
   "source": [
    "#select a site\n",
    "selection = select_region_app(date=date, \n",
    "                              satellites=satellites,\n",
    "                              size_limit=10000)"
   ]
  },
  {
   "cell_type": "markdown",
   "id": "bd5d270a",
   "metadata": {},
   "source": [
    "## View and Export Image\n",
    "\n",
    "The optional parameters below allow you to fine-tune the appearance of your output image.\n",
    "\n",
    "- `style`: The style used to produce the image. Two options are currently supported:\n",
    "    - \"True colour\" Creates a true colour image using the red, green and blue satellite bands\n",
    "    - \"False colour\" Creates a false colour image using short-wave infrared, infrared and green satellite bands.\n",
    "\n",
    "\n",
    "- `resolution`: The spatial resolution to load data. By default, the tool will automatically set the best possible resolution depending on the satellites selected (i.e. 30 m for Landsat, 10 m for Sentinel-2).\n",
    "\n",
    "Increasing this (e.g. to `resolution = (-100, 100)`) can be useful for loading large spatial extents.\n",
    "\n",
    "- `vmin, vmax`: The minimum and maximum surface reflectance values used to clip the resulting imagery to enhance contrast.\n",
    "\n",
    "- `percentile_stretch`: A tuple of two percentiles (i.e. between 0.00 and 1.00) that can be used to clip the imagery to optimise the brightness and contrast of the image.\n",
    "    If this parameter is used, vmin and vmax will have no effect.\n",
    "\n",
    "- `power`: Raises imagery by a power to reduce bright features and enhance dark features. This can add extra definition over areas with extremely bright features like snow, beaches or salt pans.\n",
    "\n",
    "- `image_proc_funcs` An optional list containing functions that will be applied to the output image. This can include image processing functions such as increasing contrast, unsharp masking, saturation etc. The function should take and return a `numpy.ndarray` with shape `[y, x, bands]`.\n",
    "\n",
    "- `standardise_name`: Whether to export the image file with a machine-readable file name (e.g. `Sentinel-2B - 2021-04-30 - Northampton County, Virginia - True colour, 10 m resolution.jpg`)\n",
    "\n",
    "<b>Note</b>: <b>If running the notebook for the first time</b>, keep the default settings below. This will demonstrate how the analysis works and provide meaningful results"
   ]
  },
  {
   "cell_type": "code",
   "execution_count": 7,
   "id": "7b209aea",
   "metadata": {},
   "outputs": [],
   "source": [
    "# Optional image export parameters\n",
    "style = 'True colour' # 'False colour'\n",
    "resolution = None\n",
    "vmin, vmax = (0, 2000)\n",
    "percentile_stretch = None\n",
    "power = None\n",
    "image_proc_funcs = None\n",
    "output_format = \"jpg\"\n",
    "standardise_name = False"
   ]
  },
  {
   "cell_type": "markdown",
   "id": "2949a434-c535-4ad3-9d7a-e67dae07d5f2",
   "metadata": {},
   "source": [
    "Once you are happy with the parameters above, run the cell below to load the satellite data and export it."
   ]
  },
  {
   "cell_type": "code",
   "execution_count": 8,
   "id": "f24a337f-b9bd-453e-a36f-28629f1f1e78",
   "metadata": {
    "tags": []
   },
   "outputs": [
    {
     "name": "stderr",
     "output_type": "stream",
     "text": [
      "distributed.diskutils - INFO - Found stale lock file and directory '/home/jupyter-68bca889-0317-429c-8193d/Steiner_Notebooks/va-datacube/real_world_examples/dask-worker-space/worker-gfa7ket0', purging\n"
     ]
    },
    {
     "data": {
      "text/html": [
       "<div>\n",
       "    <div style=\"width: 24px; height: 24px; background-color: #e1e1e1; border: 3px solid #9D9D9D; border-radius: 5px; position: absolute;\"> </div>\n",
       "    <div style=\"margin-left: 48px;\">\n",
       "        <h3 style=\"margin-bottom: 0px;\">Client</h3>\n",
       "        <p style=\"color: #9D9D9D; margin-bottom: 0px;\">Client-636aa706-009e-11ee-8289-12d20fa85d3b</p>\n",
       "        <table style=\"width: 100%; text-align: left;\">\n",
       "\n",
       "        <tr>\n",
       "        \n",
       "            <td style=\"text-align: left;\"><strong>Connection method:</strong> Cluster object</td>\n",
       "            <td style=\"text-align: left;\"><strong>Cluster type:</strong> distributed.LocalCluster</td>\n",
       "        \n",
       "        </tr>\n",
       "\n",
       "        \n",
       "            <tr>\n",
       "                <td style=\"text-align: left;\">\n",
       "                    <strong>Dashboard: </strong> <a href=\"/user/68bca889-0317-429c-aa54-ad21f6435da5/proxy/8787/status\" target=\"_blank\">/user/68bca889-0317-429c-aa54-ad21f6435da5/proxy/8787/status</a>\n",
       "                </td>\n",
       "                <td style=\"text-align: left;\"></td>\n",
       "            </tr>\n",
       "        \n",
       "\n",
       "        </table>\n",
       "\n",
       "        \n",
       "            <details>\n",
       "            <summary style=\"margin-bottom: 20px;\"><h3 style=\"display: inline;\">Cluster Info</h3></summary>\n",
       "            <div class=\"jp-RenderedHTMLCommon jp-RenderedHTML jp-mod-trusted jp-OutputArea-output\">\n",
       "    <div style=\"width: 24px; height: 24px; background-color: #e1e1e1; border: 3px solid #9D9D9D; border-radius: 5px; position: absolute;\">\n",
       "    </div>\n",
       "    <div style=\"margin-left: 48px;\">\n",
       "        <h3 style=\"margin-bottom: 0px; margin-top: 0px;\">LocalCluster</h3>\n",
       "        <p style=\"color: #9D9D9D; margin-bottom: 0px;\">b116ab6d</p>\n",
       "        <table style=\"width: 100%; text-align: left;\">\n",
       "            <tr>\n",
       "                <td style=\"text-align: left;\">\n",
       "                    <strong>Dashboard:</strong> <a href=\"/user/68bca889-0317-429c-aa54-ad21f6435da5/proxy/8787/status\" target=\"_blank\">/user/68bca889-0317-429c-aa54-ad21f6435da5/proxy/8787/status</a>\n",
       "                </td>\n",
       "                <td style=\"text-align: left;\">\n",
       "                    <strong>Workers:</strong> 1\n",
       "                </td>\n",
       "            </tr>\n",
       "            <tr>\n",
       "                <td style=\"text-align: left;\">\n",
       "                    <strong>Total threads:</strong> 4\n",
       "                </td>\n",
       "                <td style=\"text-align: left;\">\n",
       "                    <strong>Total memory:</strong> 28.11 GiB\n",
       "                </td>\n",
       "            </tr>\n",
       "            \n",
       "            <tr>\n",
       "    <td style=\"text-align: left;\"><strong>Status:</strong> running</td>\n",
       "    <td style=\"text-align: left;\"><strong>Using processes:</strong> True</td>\n",
       "</tr>\n",
       "\n",
       "            \n",
       "        </table>\n",
       "\n",
       "        <details>\n",
       "            <summary style=\"margin-bottom: 20px;\">\n",
       "                <h3 style=\"display: inline;\">Scheduler Info</h3>\n",
       "            </summary>\n",
       "\n",
       "            <div style=\"\">\n",
       "    <div>\n",
       "        <div style=\"width: 24px; height: 24px; background-color: #FFF7E5; border: 3px solid #FF6132; border-radius: 5px; position: absolute;\"> </div>\n",
       "        <div style=\"margin-left: 48px;\">\n",
       "            <h3 style=\"margin-bottom: 0px;\">Scheduler</h3>\n",
       "            <p style=\"color: #9D9D9D; margin-bottom: 0px;\">Scheduler-b67325ec-5114-4e4e-a4f4-0c3d69facb19</p>\n",
       "            <table style=\"width: 100%; text-align: left;\">\n",
       "                <tr>\n",
       "                    <td style=\"text-align: left;\">\n",
       "                        <strong>Comm:</strong> tcp://127.0.0.1:45485\n",
       "                    </td>\n",
       "                    <td style=\"text-align: left;\">\n",
       "                        <strong>Workers:</strong> 1\n",
       "                    </td>\n",
       "                </tr>\n",
       "                <tr>\n",
       "                    <td style=\"text-align: left;\">\n",
       "                        <strong>Dashboard:</strong> <a href=\"/user/68bca889-0317-429c-aa54-ad21f6435da5/proxy/8787/status\" target=\"_blank\">/user/68bca889-0317-429c-aa54-ad21f6435da5/proxy/8787/status</a>\n",
       "                    </td>\n",
       "                    <td style=\"text-align: left;\">\n",
       "                        <strong>Total threads:</strong> 4\n",
       "                    </td>\n",
       "                </tr>\n",
       "                <tr>\n",
       "                    <td style=\"text-align: left;\">\n",
       "                        <strong>Started:</strong> Just now\n",
       "                    </td>\n",
       "                    <td style=\"text-align: left;\">\n",
       "                        <strong>Total memory:</strong> 28.11 GiB\n",
       "                    </td>\n",
       "                </tr>\n",
       "            </table>\n",
       "        </div>\n",
       "    </div>\n",
       "\n",
       "    <details style=\"margin-left: 48px;\">\n",
       "        <summary style=\"margin-bottom: 20px;\">\n",
       "            <h3 style=\"display: inline;\">Workers</h3>\n",
       "        </summary>\n",
       "\n",
       "        \n",
       "        <div style=\"margin-bottom: 20px;\">\n",
       "            <div style=\"width: 24px; height: 24px; background-color: #DBF5FF; border: 3px solid #4CC9FF; border-radius: 5px; position: absolute;\"> </div>\n",
       "            <div style=\"margin-left: 48px;\">\n",
       "            <details>\n",
       "                <summary>\n",
       "                    <h4 style=\"margin-bottom: 0px; display: inline;\">Worker: 0</h4>\n",
       "                </summary>\n",
       "                <table style=\"width: 100%; text-align: left;\">\n",
       "                    <tr>\n",
       "                        <td style=\"text-align: left;\">\n",
       "                            <strong>Comm: </strong> tcp://127.0.0.1:42977\n",
       "                        </td>\n",
       "                        <td style=\"text-align: left;\">\n",
       "                            <strong>Total threads: </strong> 4\n",
       "                        </td>\n",
       "                    </tr>\n",
       "                    <tr>\n",
       "                        <td style=\"text-align: left;\">\n",
       "                            <strong>Dashboard: </strong> <a href=\"/user/68bca889-0317-429c-aa54-ad21f6435da5/proxy/34873/status\" target=\"_blank\">/user/68bca889-0317-429c-aa54-ad21f6435da5/proxy/34873/status</a>\n",
       "                        </td>\n",
       "                        <td style=\"text-align: left;\">\n",
       "                            <strong>Memory: </strong> 28.11 GiB\n",
       "                        </td>\n",
       "                    </tr>\n",
       "                    <tr>\n",
       "                        <td style=\"text-align: left;\">\n",
       "                            <strong>Nanny: </strong> tcp://127.0.0.1:43259\n",
       "                        </td>\n",
       "                        <td style=\"text-align: left;\"></td>\n",
       "                    </tr>\n",
       "                    <tr>\n",
       "                        <td colspan=\"2\" style=\"text-align: left;\">\n",
       "                            <strong>Local directory: </strong> /home/jupyter-68bca889-0317-429c-8193d/Steiner_Notebooks/va-datacube/real_world_examples/dask-worker-space/worker-szkt4nd9\n",
       "                        </td>\n",
       "                    </tr>\n",
       "\n",
       "                    \n",
       "\n",
       "                    \n",
       "\n",
       "                </table>\n",
       "            </details>\n",
       "            </div>\n",
       "        </div>\n",
       "        \n",
       "\n",
       "    </details>\n",
       "</div>\n",
       "\n",
       "        </details>\n",
       "    </div>\n",
       "</div>\n",
       "            </details>\n",
       "        \n",
       "\n",
       "    </div>\n",
       "</div>"
      ],
      "text/plain": [
       "<Client: 'tcp://127.0.0.1:45485' processes=1 threads=4, memory=28.11 GiB>"
      ]
     },
     "metadata": {},
     "output_type": "display_data"
    },
    {
     "name": "stderr",
     "output_type": "stream",
     "text": [
      "/opt/tljh/user/lib/python3.9/site-packages/datacube/drivers/postgres/_api.py:564: SAWarning: Class CommonTimestamp will not make use of SQL compilation caching as it does not set the 'inherit_cache' attribute to ``True``.  This can have significant performance implications including some performance degradations in comparison to prior SQLAlchemy versions.  Set this attribute to True if this object can make use of the cache key generated by the superclass.  Alternatively, this attribute may be set to False which will disable this warning. (Background on this error at: https://sqlalche.me/e/14/cprf)\n",
      "  return self._connection.execute(select_query)\n",
      "/opt/tljh/user/lib/python3.9/site-packages/datacube/drivers/postgres/_api.py:564: SAWarning: Class Float8Range will not make use of SQL compilation caching as it does not set the 'inherit_cache' attribute to ``True``.  This can have significant performance implications including some performance degradations in comparison to prior SQLAlchemy versions.  Set this attribute to True if this object can make use of the cache key generated by the superclass.  Alternatively, this attribute may be set to False which will disable this warning. (Background on this error at: https://sqlalche.me/e/14/cprf)\n",
      "  return self._connection.execute(select_query)\n"
     ]
    },
    {
     "name": "stdout",
     "output_type": "stream",
     "text": [
      "\n",
      "Exporting image to Sentinel-2B - 2021-04-30 - Northampton County, Virginia - True colour, 10 m resolution.jpg.\n",
      "This may take several minutes to complete...\n",
      "Finished exporting image.\n"
     ]
    },
    {
     "data": {
      "image/png": "[encoded data removed]",
      "text/plain": [
       "<Figure size 432x288 with 1 Axes>"
      ]
     },
     "metadata": {
      "needs_background": "light"
     },
     "output_type": "display_data"
    },
    {
     "name": "stderr",
     "output_type": "stream",
     "text": [
      "distributed.client - ERROR - Failed to reconnect to scheduler after 30.00 seconds, closing client\n",
      "_GatheringFuture exception was never retrieved\n",
      "future: <_GatheringFuture finished exception=CancelledError()>\n",
      "asyncio.exceptions.CancelledError\n"
     ]
    }
   ],
   "source": [
    "# Load data and export image\n",
    "export_image_app(\n",
    "    style=style,\n",
    "    resolution=resolution,\n",
    "    vmin=vmin,\n",
    "    vmax=vmax,\n",
    "    percentile_stretch=percentile_stretch,\n",
    "    power=power,\n",
    "    image_proc_funcs=image_proc_funcs,\n",
    "    output_format=output_format,\n",
    "    standardise_name=standardise_name,\n",
    "    **selection\n",
    ")"
   ]
  },
  {
   "cell_type": "markdown",
   "id": "98914fc3",
   "metadata": {},
   "source": [
    "## Downloading exported image\n",
    "\n",
    "The image export will be completed when <b>Finished exporting image</b> appears above, and a preview of your image is shown below the map.\n",
    "\n",
    "The high resolution image file generated above will be saved to the same location you are running this notebook from (e.g. typically `Real_world_examples`). In JupyterLab, use the file browser to locate the image file with a name in the following format:\n",
    "\n",
    "`Sentinel-2A - 2020-01-30 - Bitou Local Municipality, Western Cape - True colour, 10 m resolution`\n",
    "\n",
    "If you are using the <b>VA DataCube Sandbox</b>, you can download the image to your PC by right clicking on the image file and selecting <b>download</b>."
   ]
  },
  {
   "cell_type": "markdown",
   "id": "c0393164-bba7-423f-b160-6a9db0229497",
   "metadata": {},
   "source": [
    "## Next steps\n",
    "\n",
    "When you are done, return to the Analysis parameters section, modify some values and rerun the analysis. For example, you could try:\n",
    "\n",
    "- Change `satellites` to `\"Landsat\"` to export a Landsat image instead of `Sentinel-2`.\n",
    "- Modify `style` to `\"False colour\"` to export a false colour view of the landscape that highlights growing vegetation and water.\n",
    "- Specify a custom resolution, e.g. `resolution = (-1000, 1000)`.\n",
    "- Experiment with the `vmin, vmax`, `percentile_stretch` and `power` parameters to alter the appearance of the resulting image."
   ]
  },
  {
   "cell_type": "markdown",
   "id": "a1add747",
   "metadata": {},
   "source": [
    "***\n",
    "## Additional information\n",
    "\n",
    "**License:** The code in this notebook is licensed under the [Apache License, Version 2.0](https://www.apache.org/licenses/LICENSE-2.0). \n",
    "\n",
    "\n",
    "**Contact:** If you need assistance, please post a question on the [Open Data Cube Slack channel](http://slack.opendatacube.org/) or on the [GIS Stack Exchange](https://gis.stackexchange.com/questions/ask?tags=open-data-cube) using the `open-data-cube` tag (you can view previously asked questions [here](https://gis.stackexchange.com/questions/tagged/open-data-cube)).\n",
    "If you would like to report an issue with this notebook, you can file one on [Github](https://github.com/digitalearthafrica/deafrica-sandbox-notebooks).\n",
    "\n",
    "**Last modified:** June 2023\n",
    "\n",
    "**Compatible datacube version:** "
   ]
  },
  {
   "cell_type": "code",
   "execution_count": 9,
   "id": "0437ddd5",
   "metadata": {},
   "outputs": [
    {
     "name": "stdout",
     "output_type": "stream",
     "text": [
      "1.8.6\n"
     ]
    }
   ],
   "source": [
    "print(datacube.__version__)"
   ]
  },
  {
   "cell_type": "markdown",
   "id": "b9b4c2e9",
   "metadata": {},
   "source": [
    "## Tags \n",
    "Browse all available tags on the VA Data Cube User Guide's Tags Index "
   ]
  }
 ],
 "metadata": {
  "kernelspec": {
   "display_name": "Python 3 (ipykernel)",
   "language": "python",
   "name": "python3"
  },
  "language_info": {
   "codemirror_mode": {
    "name": "ipython",
    "version": 3
   },
   "file_extension": ".py",
   "mimetype": "text/x-python",
   "name": "python",
   "nbconvert_exporter": "python",
   "pygments_lexer": "ipython3",
   "version": "3.9.7"
  }
 },
 "nbformat": 4,
 "nbformat_minor": 5
}
