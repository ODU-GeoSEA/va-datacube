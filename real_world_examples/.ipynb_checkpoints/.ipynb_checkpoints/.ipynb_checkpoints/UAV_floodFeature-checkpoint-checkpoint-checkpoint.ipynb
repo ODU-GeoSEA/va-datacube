{
 "cells": [
  {
   "cell_type": "markdown",
   "id": "b1a961b5",
   "metadata": {
    "tags": []
   },
   "source": [
    " ![GeoSEA logo](https://ww1.odu.edu/facultystaff/research/resources/computing/gis/_jcr_content/par/image.img.2160.jpg/1576165783182.jpg)\n",
    "# Descriptive title that follows notebook filename\n",
    "\n",
    " - Sign up to the VA Datacube (INSERT LINK) to run this notebook interactively from a browser\n",
    " - <b>Compatibility</b>: Notebook currently compatible with both the NCI and DEA Sandbox environments    \n",
    " - <b>Products used</b>:\n",
    "    \n",
    "    products....\n",
    " - <b>Special requirements:</b> An optional description of any special requirements, e.g. If running on the NCI, ensure that\n",
    "    module load otps is run prior to launching this notebook\n",
    " - <b>Prerequisites:</b> An <i>optional</i> list of any notebooks that should be run or content that should be understood\n",
    "    prior to launching this notebook\n",
    "    \n",
    "    testing testing TESTING TESTING TESTING\n",
    "\n",
    " \n"
   ]
  },
  {
   "cell_type": "markdown",
   "id": "26bba8c7",
   "metadata": {},
   "source": [
    "## Background\n",
    "\n",
    "\n",
    "An <i>optional</i> overview of the scientific, economic or environmental management issue or challenge being addressed by Digital Earth Australia. For Beginners_Guide or Frequently_Used_Code notebooks, this may include information about why the particular technique or approach is useful or required. If you need to cite a scientific paper or link to a website, use a persistent DOI link if possible and link in-text (e.g. Dhu et al. 2017)."
   ]
  },
  {
   "cell_type": "markdown",
   "id": "c3370de1",
   "metadata": {
    "tags": []
   },
   "source": [
    "## Description\n",
    "\n",
    "A <i>compulsory</i> description of the notebook, including a brief overview of how Digital Earth Australia helps to address the problem set out above. It can be good to include a run-down of the tools/methods that will be demonstrated in the notebook:\n",
    "\n",
    "1. First we do this\n",
    "2. Then we do this\n",
    "3. Finally we do this"
   ]
  },
  {
   "cell_type": "markdown",
   "id": "6a10a543",
   "metadata": {},
   "source": [
    "---------------------------------------------------------------------------------------------------------------------------"
   ]
  },
  {
   "cell_type": "markdown",
   "id": "d1d817a9",
   "metadata": {},
   "source": [
    "## Getting started\n",
    "\n",
    "\n",
    "Provide any particular instructions that the user might need, e.g. To run this analysis, run all the cells in the notebook, starting with the \"Load packages\" cell."
   ]
  },
  {
   "cell_type": "markdown",
   "id": "5881476c",
   "metadata": {},
   "source": [
    "### Load packages\n",
    "Import Python packages that are used for the analysis.\n",
    "\n",
    "Use standard import commands; some are shown below. Begin with any iPython magic commands, followed by standard Python packages, then any additional functionality you need from the Scripts directory."
   ]
  },
  {
   "cell_type": "code",
   "execution_count": 2,
   "id": "1c851db3",
   "metadata": {},
   "outputs": [
    {
     "ename": "ModuleNotFoundError",
     "evalue": "No module named 'dea_plotting'",
     "output_type": "error",
     "traceback": [
      "\u001b[0;31m---------------------------------------------------------------------------\u001b[0m",
      "\u001b[0;31mModuleNotFoundError\u001b[0m                       Traceback (most recent call last)",
      "Input \u001b[0;32mIn [2]\u001b[0m, in \u001b[0;36m<cell line: 11>\u001b[0;34m()\u001b[0m\n\u001b[1;32m      8\u001b[0m \u001b[38;5;28;01mimport\u001b[39;00m \u001b[38;5;21;01mxarray\u001b[39;00m \u001b[38;5;28;01mas\u001b[39;00m \u001b[38;5;21;01mxr\u001b[39;00m\n\u001b[1;32m     10\u001b[0m sys\u001b[38;5;241m.\u001b[39mpath\u001b[38;5;241m.\u001b[39mappend(\u001b[38;5;124m'\u001b[39m\u001b[38;5;124m../Scripts\u001b[39m\u001b[38;5;124m'\u001b[39m)\n\u001b[0;32m---> 11\u001b[0m \u001b[38;5;28;01mfrom\u001b[39;00m \u001b[38;5;21;01mdea_plotting\u001b[39;00m \u001b[38;5;28;01mimport\u001b[39;00m rgb\n",
      "\u001b[0;31mModuleNotFoundError\u001b[0m: No module named 'dea_plotting'"
     ]
    }
   ],
   "source": [
    "%matplotlib inline\n",
    "\n",
    "import sys\n",
    "import datacube\n",
    "import matplotlib.pyplot as plt\n",
    "import numpy as np\n",
    "import pandas as pd\n",
    "import xarray as xr\n",
    "\n",
    "sys.path.append('../Scripts')\n",
    "from dea_plotting import rgb"
   ]
  },
  {
   "cell_type": "markdown",
   "id": "36877232",
   "metadata": {},
   "source": [
    "### Connect to the datacube\n",
    "\n",
    "Connect to the datacube so we can access DEA data. The app parameter is a unique name for the analysis which is based on the notebook file name"
   ]
  },
  {
   "cell_type": "code",
   "execution_count": null,
   "id": "fe072223",
   "metadata": {},
   "outputs": [],
   "source": [
    "dc = datacube.Datacube(app='DEA_notebooks_template')"
   ]
  },
  {
   "cell_type": "markdown",
   "id": "52e0ded8",
   "metadata": {},
   "source": [
    "### Analysis parameters\n",
    "An optional section to inform the user of any parameters they'll need to configure to run the notebook:\n",
    " - param_name_1: Simple description (e.g. example_value). Advice about appropriate values to choose for this parameter.\n",
    " - param_name_2: Simple description (e.g. example_value). Advice about appropriate values to choose for this parameter.\n",
    "\n",
    " "
   ]
  },
  {
   "cell_type": "code",
   "execution_count": null,
   "id": "eb60c43b",
   "metadata": {},
   "outputs": [],
   "source": [
    "param_name_1 = 'example_value'\n",
    "param_name_2 = 'example_value'"
   ]
  },
  {
   "cell_type": "markdown",
   "id": "bd5d270a",
   "metadata": {},
   "source": [
    "## Heading 1\n",
    "\n",
    "Use headings to break up key steps/stages of the notebook.\n",
    "\n",
    "Use markdown text for detailed, descriptive text explaining what the code below does and why it is needed.\n",
    "\n",
    "<b>Note</b>: Use this markdown format (sparingly) to draw particular attention to an important point or caveat"
   ]
  },
  {
   "cell_type": "code",
   "execution_count": null,
   "id": "1ff8da02",
   "metadata": {},
   "outputs": [],
   "source": [
    "# Use code comments for low-level documentation of code\n",
    "a = 1"
   ]
  },
  {
   "cell_type": "markdown",
   "id": "7da4ff41",
   "metadata": {},
   "source": [
    "### Subheading 1\n",
    "\n",
    "Use subheadings to break up steps within a single section."
   ]
  },
  {
   "cell_type": "code",
   "execution_count": null,
   "id": "7b209aea",
   "metadata": {},
   "outputs": [],
   "source": [
    "# Use code comments for low-level documentation of code\n",
    "b = 2"
   ]
  },
  {
   "cell_type": "markdown",
   "id": "98914fc3",
   "metadata": {},
   "source": [
    "## Heading 2\n",
    "\n",
    "Use markdown text for detailed, descriptive text explaining what the code below does and why it is needed.\n"
   ]
  },
  {
   "cell_type": "code",
   "execution_count": 1,
   "id": "9f55b31c",
   "metadata": {},
   "outputs": [],
   "source": [
    "# Use code comments for low-level documentation of code\n",
    "c = 3"
   ]
  },
  {
   "cell_type": "markdown",
   "id": "a1add747",
   "metadata": {},
   "source": [
    "## Additional information\n",
    "\n",
    "<b>License:</b> The code in this notebook is licensed under the Apache License, Version 2.0. Digital Earth Australia data is licensed under the Creative Commons by Attribution 4.0 license.\n",
    "\n",
    "<b>Contact:</b> If you need assistance, please post a question on the Open Data Cube Slack channel or on the GIS Stack Exchange using the open-data-cube tag (you can view previously asked questions here). If you would like to report an issue with this notebook, you can file one on Github.\n",
    "\n",
    "<b>Last modified:</b> May 2020\n",
    "\n",
    "<b>Compatible datacube version:</b>"
   ]
  },
  {
   "cell_type": "code",
   "execution_count": null,
   "id": "0437ddd5",
   "metadata": {},
   "outputs": [],
   "source": [
    "print(datacube.__version__)"
   ]
  },
  {
   "cell_type": "markdown",
   "id": "b9b4c2e9",
   "metadata": {},
   "source": [
    "## Tags \n",
    "Browse all available tags on the VA Data Cube User Guide's Tags Index "
   ]
  }
 ],
 "metadata": {
  "kernelspec": {
   "display_name": "Python 3 (ipykernel)",
   "language": "python",
   "name": "python3"
  },
  "language_info": {
   "codemirror_mode": {
    "name": "ipython",
    "version": 3
   },
   "file_extension": ".py",
   "mimetype": "text/x-python",
   "name": "python",
   "nbconvert_exporter": "python",
   "pygments_lexer": "ipython3",
   "version": "3.9.7"
  }
 },
 "nbformat": 4,
 "nbformat_minor": 5
}
