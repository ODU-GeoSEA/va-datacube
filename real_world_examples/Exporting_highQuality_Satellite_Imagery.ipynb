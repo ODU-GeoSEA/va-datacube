{
 "cells": [
  {
   "cell_type": "markdown",
   "id": "b1a961b5",
   "metadata": {},
   "source": [
    "![data cube logo](https://static.wixstatic.com/media/8959d6_a13dc7ece5be4678af57c8f7c1667734~mv2.png/v1/fill/w_279,h_177,al_c,q_85,usm_0.66_1.00_0.01,enc_auto/VSDC_DataCubeSplash_6Partner_edited.png)\n",
    "# Exporting High Quality Satellite Imagery\n",
    "\n",
    " - Sign up to the [VA Datacube](https://www.data4va.org/) to run this notebook interactively from a browser\n",
    " - <b>Compatibility</b>: Notebook currently compatible with the Virginia DataCube Sandbox environments    \n",
    " - <b>Notebook Use:</b> If you would like to modify and save this notebook, please copy and paste it into your own folder on the data cube.\n",
    " - <b>Products used</b>:\n",
    "    \n",
    "    - `s2_l2a`\n",
    "    - `ls8_sr`\n",
    "    - `ls7_sr`\n",
    "    - `ls5_sr`\n",
    " \n",
    "\n",
    " \n"
   ]
  },
  {
   "cell_type": "markdown",
   "id": "26bba8c7",
   "metadata": {},
   "source": [
    "## Background\n",
    "\n",
    "\n",
    "\n",
    "The majority of case studies in this repository center around the quantitative analysis of satellite data to gain insights into Virginia's evolving environment. Nevertheless, satellite imagery serves as a potent means of visualization. Captured by satellites, these images can elucidate physical processes, showcase temporal changes, and offer crucial context to enhance our comprehension of the effects resulting from recent environmental occurrences like flooding or fire. Furthermore, satellite data can be processed to generate landscape images based on imperceptible wavelengths of light (e.g., false color images), enabling us to acquire more comprehensive understanding of features and processes that would otherwise remain hidden from human observation."
   ]
  },
  {
   "cell_type": "markdown",
   "id": "c3370de1",
   "metadata": {},
   "source": [
    "## Description\n",
    "\n",
    "This notebook provides an interactive tool for selecting, loading, processing and exporting satellite imagery as a high quality image file.\n",
    "\n",
    "1. We will first select a location on a map\n",
    "2. Then we will derive a satellite image from it and save it\n"
   ]
  },
  {
   "cell_type": "markdown",
   "id": "e0fa0ff7-fbd7-433b-8f62-4bf3bbe1ce24",
   "metadata": {},
   "source": [
    "---------------------------------------------------------------------------------------------------------------------------"
   ]
  },
  {
   "cell_type": "markdown",
   "id": "d1d817a9",
   "metadata": {},
   "source": [
    "## Getting started\n",
    "\n",
    "To run this analysis, run all the cells in the notebook, starting with the “Load packages” cell."
   ]
  },
  {
   "cell_type": "markdown",
   "id": "5881476c",
   "metadata": {},
   "source": [
    "### Load packages\n",
    "Import Python packages that are used for the analysis.\n",
    "\n",
    "Use standard import commands; some are shown below. Begin with any iPython magic commands, followed by standard Python packages, then any additional functionality you need from the Scripts directory."
   ]
  },
  {
   "cell_type": "code",
   "execution_count": 1,
   "id": "1c851db3",
   "metadata": {
    "tags": []
   },
   "outputs": [],
   "source": [
    "%matplotlib inline\n",
    "\n",
    "import datacube\n",
    "from deafrica_tools.app.imageexport import select_region_app, export_image_app\n",
    "import matplotlib.pyplot as plt"
   ]
  },
  {
   "cell_type": "markdown",
   "id": "36877232",
   "metadata": {},
   "source": [
    "### Connect to the datacube\n",
    "\n",
    "Connect to the datacube so we can access DEA data. The app parameter is a unique name for the analysis which is based on the notebook file name"
   ]
  },
  {
   "cell_type": "code",
   "execution_count": 2,
   "id": "fe072223",
   "metadata": {
    "tags": []
   },
   "outputs": [],
   "source": [
    "dc = datacube.Datacube(app='Exporting_highQuality_Satellite_Imagery')"
   ]
  },
  {
   "cell_type": "markdown",
   "id": "96b076c7-e4f5-4dd7-af32-d0db08b4c4cb",
   "metadata": {},
   "source": [
    "## Select Imagery"
   ]
  },
  {
   "cell_type": "markdown",
   "id": "52e0ded8",
   "metadata": {},
   "source": [
    "### Analysis parameters\n",
    "The following cell sets important required parameters used to plot and select satellite imagery on the interactive map.\n",
    " - `date`: The exact date used to display imagery on the map (e.g. date='2011-01-01').\n",
    " - `satellites`: The satellite data to be shown on the map. Five options are currently supported:\n",
    " \n",
    " <table style=\"width:70%\">\n",
    "    <tr>\n",
    "        <th>Satellite</th>\n",
    "        <th>Data</th>\n",
    "    </tr>\n",
    "    <tr>\n",
    "        <td><b>Landsat-5</b></td>\n",
    "        <td>data from Landsat-5</td>\n",
    "    </tr>\n",
    "    <tr>\n",
    "        <td><b>Landsat-7</b></td>\n",
    "        <td>data from Landsat-7</td>\n",
    "    </tr>\n",
    "    <tr>\n",
    "        <td><b>Landsat-8</b></td>\n",
    "        <td>data from Landsat-8</td>\n",
    "    </tr>\n",
    "    <tr>\n",
    "        <td><b>Sentinel-2</b></td>\n",
    "        <td>data from Sentinel-2</td>\n",
    "    </tr>\n",
    "</table>"
   ]
  },
  {
   "cell_type": "code",
   "execution_count": 11,
   "id": "eb60c43b",
   "metadata": {
    "tags": []
   },
   "outputs": [],
   "source": [
    "# Required image selection parameters\n",
    "date = '2023-04-30'\n",
    "satellites = 'Sentinel-2 geomedian'"
   ]
  },
  {
   "cell_type": "markdown",
   "id": "7da4ff41",
   "metadata": {},
   "source": [
    "### Select a location on a map\n",
    "\n",
    "Run the following cell to plot the interactive map that is used to select the area to load and export satellite imagery.\n",
    "\n",
    "Select the `Draw a rectangle` or `Draw a polygon tool` on the left of the map, and draw a shape around the area you are interested in. When you are ready, press the green `done` button on the top right of the map.\n",
    "\n",
    "<b>Note</b>: To keep load times reasonable, select an area smaller than <b>10000</b> square kilometers in size (this limit can be overuled by supplying the size_limit parameter in the `select_region_app` function below)."
   ]
  },
  {
   "cell_type": "code",
   "execution_count": 12,
   "id": "1ff8da02",
   "metadata": {
    "tags": []
   },
   "outputs": [
    {
     "data": {
      "application/vnd.jupyter.widget-view+json": {
       "model_id": "e0814552f1594aefbff73ad396f10e2f",
       "version_major": 2,
       "version_minor": 0
      },
      "text/plain": [
       "Map(center=[4, 20], controls=(ZoomControl(options=['position', 'zoom_in_text', 'zoom_in_title', 'zoom_out_text…"
      ]
     },
     "metadata": {},
     "output_type": "display_data"
    }
   ],
   "source": [
    "#select a site\n",
    "selection = select_region_app(date=date, \n",
    "                              satellites=satellites,\n",
    "                              size_limit=1000)"
   ]
  },
  {
   "cell_type": "markdown",
   "id": "bd5d270a",
   "metadata": {},
   "source": [
    "## View and Export Image\n",
    "\n",
    "The optional parameters below allow you to fine-tune the appearance of your output image.\n",
    "\n",
    "- `style`: The style used to produce the image. Two options are currently supported:\n",
    "    - \"True colour\" Creates a true colour image using the red, green and blue satellite bands\n",
    "    - \"False colour\" Creates a false colour image using short-wave infrared, infrared and green satellite bands.\n",
    "\n",
    "\n",
    "- `resolution`: The spatial resolution to load data. By default, the tool will automatically set the best possible resolution depending on the satellites selected (i.e. 30 m for Landsat, 10 m for Sentinel-2).\n",
    "\n",
    "Increasing this (e.g. to `resolution = (-100, 100)`) can be useful for loading large spatial extents.\n",
    "\n",
    "- `vmin, vmax`: The minimum and maximum surface reflectance values used to clip the resulting imagery to enhance contrast.\n",
    "\n",
    "- `percentile_stretch`: A tuple of two percentiles (i.e. between 0.00 and 1.00) that can be used to clip the imagery to optimise the brightness and contrast of the image.\n",
    "    If this parameter is used, vmin and vmax will have no effect.\n",
    "\n",
    "- `power`: Raises imagery by a power to reduce bright features and enhance dark features. This can add extra definition over areas with extremely bright features like snow, beaches or salt pans.\n",
    "\n",
    "- `image_proc_funcs` An optional list containing functions that will be applied to the output image. This can include image processing functions such as increasing contrast, unsharp masking, saturation etc. The function should take and return a `numpy.ndarray` with shape `[y, x, bands]`.\n",
    "\n",
    "- `standardise_name`: Whether to export the image file with a machine-readable file name (e.g. `Sentinel-2B - 2021-04-30 - Northampton County, Virginia - True colour, 10 m resolution.jpg`)\n",
    "\n",
    "<b>Note</b>: <b>If running the notebook for the first time</b>, keep the default settings below. This will demonstrate how the analysis works and provide meaningful results"
   ]
  },
  {
   "cell_type": "code",
   "execution_count": 13,
   "id": "7b209aea",
   "metadata": {
    "tags": []
   },
   "outputs": [],
   "source": [
    "# Optional image export parameters\n",
    "style = 'True colour' # 'False colour'\n",
    "resolution = None\n",
    "vmin, vmax = (0, 2000)\n",
    "percentile_stretch = None\n",
    "power = None\n",
    "image_proc_funcs = None\n",
    "output_format = \"jpg\"\n",
    "standardise_name = False"
   ]
  },
  {
   "cell_type": "markdown",
   "id": "2949a434-c535-4ad3-9d7a-e67dae07d5f2",
   "metadata": {},
   "source": [
    "Once you are happy with the parameters above, run the cell below to load the satellite data and export it."
   ]
  },
  {
   "cell_type": "code",
   "execution_count": 14,
   "id": "f24a337f-b9bd-453e-a36f-28629f1f1e78",
   "metadata": {
    "tags": []
   },
   "outputs": [
    {
     "name": "stderr",
     "output_type": "stream",
     "text": [
      "/opt/tljh/user/lib/python3.9/site-packages/distributed/node.py:182: UserWarning: Port 8787 is already in use.\n",
      "Perhaps you already have a cluster running?\n",
      "Hosting the HTTP server on port 41187 instead\n",
      "  warnings.warn(\n"
     ]
    },
    {
     "data": {
      "text/html": [
       "<div>\n",
       "    <div style=\"width: 24px; height: 24px; background-color: #e1e1e1; border: 3px solid #9D9D9D; border-radius: 5px; position: absolute;\"> </div>\n",
       "    <div style=\"margin-left: 48px;\">\n",
       "        <h3 style=\"margin-bottom: 0px;\">Client</h3>\n",
       "        <p style=\"color: #9D9D9D; margin-bottom: 0px;\">Client-cfda5211-4800-11ee-85a0-062b2fac92f7</p>\n",
       "        <table style=\"width: 100%; text-align: left;\">\n",
       "\n",
       "        <tr>\n",
       "        \n",
       "            <td style=\"text-align: left;\"><strong>Connection method:</strong> Cluster object</td>\n",
       "            <td style=\"text-align: left;\"><strong>Cluster type:</strong> distributed.LocalCluster</td>\n",
       "        \n",
       "        </tr>\n",
       "\n",
       "        \n",
       "            <tr>\n",
       "                <td style=\"text-align: left;\">\n",
       "                    <strong>Dashboard: </strong> <a href=\"/user/bsteiner/proxy/41187/status\" target=\"_blank\">/user/bsteiner/proxy/41187/status</a>\n",
       "                </td>\n",
       "                <td style=\"text-align: left;\"></td>\n",
       "            </tr>\n",
       "        \n",
       "\n",
       "        </table>\n",
       "\n",
       "        \n",
       "\n",
       "        \n",
       "            <details>\n",
       "            <summary style=\"margin-bottom: 20px;\"><h3 style=\"display: inline;\">Cluster Info</h3></summary>\n",
       "            <div class=\"jp-RenderedHTMLCommon jp-RenderedHTML jp-mod-trusted jp-OutputArea-output\">\n",
       "    <div style=\"width: 24px; height: 24px; background-color: #e1e1e1; border: 3px solid #9D9D9D; border-radius: 5px; position: absolute;\">\n",
       "    </div>\n",
       "    <div style=\"margin-left: 48px;\">\n",
       "        <h3 style=\"margin-bottom: 0px; margin-top: 0px;\">LocalCluster</h3>\n",
       "        <p style=\"color: #9D9D9D; margin-bottom: 0px;\">44c6da6c</p>\n",
       "        <table style=\"width: 100%; text-align: left;\">\n",
       "            <tr>\n",
       "                <td style=\"text-align: left;\">\n",
       "                    <strong>Dashboard:</strong> <a href=\"/user/bsteiner/proxy/41187/status\" target=\"_blank\">/user/bsteiner/proxy/41187/status</a>\n",
       "                </td>\n",
       "                <td style=\"text-align: left;\">\n",
       "                    <strong>Workers:</strong> 1\n",
       "                </td>\n",
       "            </tr>\n",
       "            <tr>\n",
       "                <td style=\"text-align: left;\">\n",
       "                    <strong>Total threads:</strong> 8\n",
       "                </td>\n",
       "                <td style=\"text-align: left;\">\n",
       "                    <strong>Total memory:</strong> 28.55 GiB\n",
       "                </td>\n",
       "            </tr>\n",
       "            \n",
       "            <tr>\n",
       "    <td style=\"text-align: left;\"><strong>Status:</strong> running</td>\n",
       "    <td style=\"text-align: left;\"><strong>Using processes:</strong> True</td>\n",
       "</tr>\n",
       "\n",
       "            \n",
       "        </table>\n",
       "\n",
       "        <details>\n",
       "            <summary style=\"margin-bottom: 20px;\">\n",
       "                <h3 style=\"display: inline;\">Scheduler Info</h3>\n",
       "            </summary>\n",
       "\n",
       "            <div style=\"\">\n",
       "    <div>\n",
       "        <div style=\"width: 24px; height: 24px; background-color: #FFF7E5; border: 3px solid #FF6132; border-radius: 5px; position: absolute;\"> </div>\n",
       "        <div style=\"margin-left: 48px;\">\n",
       "            <h3 style=\"margin-bottom: 0px;\">Scheduler</h3>\n",
       "            <p style=\"color: #9D9D9D; margin-bottom: 0px;\">Scheduler-16adf1ee-f090-440e-a792-5a82c82c55ad</p>\n",
       "            <table style=\"width: 100%; text-align: left;\">\n",
       "                <tr>\n",
       "                    <td style=\"text-align: left;\">\n",
       "                        <strong>Comm:</strong> tcp://127.0.0.1:41789\n",
       "                    </td>\n",
       "                    <td style=\"text-align: left;\">\n",
       "                        <strong>Workers:</strong> 1\n",
       "                    </td>\n",
       "                </tr>\n",
       "                <tr>\n",
       "                    <td style=\"text-align: left;\">\n",
       "                        <strong>Dashboard:</strong> <a href=\"/user/bsteiner/proxy/41187/status\" target=\"_blank\">/user/bsteiner/proxy/41187/status</a>\n",
       "                    </td>\n",
       "                    <td style=\"text-align: left;\">\n",
       "                        <strong>Total threads:</strong> 8\n",
       "                    </td>\n",
       "                </tr>\n",
       "                <tr>\n",
       "                    <td style=\"text-align: left;\">\n",
       "                        <strong>Started:</strong> Just now\n",
       "                    </td>\n",
       "                    <td style=\"text-align: left;\">\n",
       "                        <strong>Total memory:</strong> 28.55 GiB\n",
       "                    </td>\n",
       "                </tr>\n",
       "            </table>\n",
       "        </div>\n",
       "    </div>\n",
       "\n",
       "    <details style=\"margin-left: 48px;\">\n",
       "        <summary style=\"margin-bottom: 20px;\">\n",
       "            <h3 style=\"display: inline;\">Workers</h3>\n",
       "        </summary>\n",
       "\n",
       "        \n",
       "        <div style=\"margin-bottom: 20px;\">\n",
       "            <div style=\"width: 24px; height: 24px; background-color: #DBF5FF; border: 3px solid #4CC9FF; border-radius: 5px; position: absolute;\"> </div>\n",
       "            <div style=\"margin-left: 48px;\">\n",
       "            <details>\n",
       "                <summary>\n",
       "                    <h4 style=\"margin-bottom: 0px; display: inline;\">Worker: 0</h4>\n",
       "                </summary>\n",
       "                <table style=\"width: 100%; text-align: left;\">\n",
       "                    <tr>\n",
       "                        <td style=\"text-align: left;\">\n",
       "                            <strong>Comm: </strong> tcp://127.0.0.1:45419\n",
       "                        </td>\n",
       "                        <td style=\"text-align: left;\">\n",
       "                            <strong>Total threads: </strong> 8\n",
       "                        </td>\n",
       "                    </tr>\n",
       "                    <tr>\n",
       "                        <td style=\"text-align: left;\">\n",
       "                            <strong>Dashboard: </strong> <a href=\"/user/bsteiner/proxy/43933/status\" target=\"_blank\">/user/bsteiner/proxy/43933/status</a>\n",
       "                        </td>\n",
       "                        <td style=\"text-align: left;\">\n",
       "                            <strong>Memory: </strong> 28.55 GiB\n",
       "                        </td>\n",
       "                    </tr>\n",
       "                    <tr>\n",
       "                        <td style=\"text-align: left;\">\n",
       "                            <strong>Nanny: </strong> tcp://127.0.0.1:35389\n",
       "                        </td>\n",
       "                        <td style=\"text-align: left;\"></td>\n",
       "                    </tr>\n",
       "                    <tr>\n",
       "                        <td colspan=\"2\" style=\"text-align: left;\">\n",
       "                            <strong>Local directory: </strong> /tmp/dask-worker-space-1010/worker-g8vw8_lv\n",
       "                        </td>\n",
       "                    </tr>\n",
       "\n",
       "                    \n",
       "\n",
       "                    \n",
       "\n",
       "                </table>\n",
       "            </details>\n",
       "            </div>\n",
       "        </div>\n",
       "        \n",
       "\n",
       "    </details>\n",
       "</div>\n",
       "\n",
       "        </details>\n",
       "    </div>\n",
       "</div>\n",
       "            </details>\n",
       "        \n",
       "\n",
       "    </div>\n",
       "</div>"
      ],
      "text/plain": [
       "<Client: 'tcp://127.0.0.1:41789' processes=1 threads=8, memory=28.55 GiB>"
      ]
     },
     "metadata": {},
     "output_type": "display_data"
    },
    {
     "ename": "ValueError",
     "evalue": "No such product: gm_s2_annual",
     "output_type": "error",
     "traceback": [
      "\u001b[0;31m---------------------------------------------------------------------------\u001b[0m",
      "\u001b[0;31mValueError\u001b[0m                                Traceback (most recent call last)",
      "Cell \u001b[0;32mIn[14], line 2\u001b[0m\n\u001b[1;32m      1\u001b[0m \u001b[38;5;66;03m# Load data and export image\u001b[39;00m\n\u001b[0;32m----> 2\u001b[0m \u001b[43mexport_image_app\u001b[49m\u001b[43m(\u001b[49m\n\u001b[1;32m      3\u001b[0m \u001b[43m    \u001b[49m\u001b[43mstyle\u001b[49m\u001b[38;5;241;43m=\u001b[39;49m\u001b[43mstyle\u001b[49m\u001b[43m,\u001b[49m\n\u001b[1;32m      4\u001b[0m \u001b[43m    \u001b[49m\u001b[43mresolution\u001b[49m\u001b[38;5;241;43m=\u001b[39;49m\u001b[43mresolution\u001b[49m\u001b[43m,\u001b[49m\n\u001b[1;32m      5\u001b[0m \u001b[43m    \u001b[49m\u001b[43mvmin\u001b[49m\u001b[38;5;241;43m=\u001b[39;49m\u001b[43mvmin\u001b[49m\u001b[43m,\u001b[49m\n\u001b[1;32m      6\u001b[0m \u001b[43m    \u001b[49m\u001b[43mvmax\u001b[49m\u001b[38;5;241;43m=\u001b[39;49m\u001b[43mvmax\u001b[49m\u001b[43m,\u001b[49m\n\u001b[1;32m      7\u001b[0m \u001b[43m    \u001b[49m\u001b[43mpercentile_stretch\u001b[49m\u001b[38;5;241;43m=\u001b[39;49m\u001b[43mpercentile_stretch\u001b[49m\u001b[43m,\u001b[49m\n\u001b[1;32m      8\u001b[0m \u001b[43m    \u001b[49m\u001b[43mpower\u001b[49m\u001b[38;5;241;43m=\u001b[39;49m\u001b[43mpower\u001b[49m\u001b[43m,\u001b[49m\n\u001b[1;32m      9\u001b[0m \u001b[43m    \u001b[49m\u001b[43mimage_proc_funcs\u001b[49m\u001b[38;5;241;43m=\u001b[39;49m\u001b[43mimage_proc_funcs\u001b[49m\u001b[43m,\u001b[49m\n\u001b[1;32m     10\u001b[0m \u001b[43m    \u001b[49m\u001b[43moutput_format\u001b[49m\u001b[38;5;241;43m=\u001b[39;49m\u001b[43moutput_format\u001b[49m\u001b[43m,\u001b[49m\n\u001b[1;32m     11\u001b[0m \u001b[43m    \u001b[49m\u001b[43mstandardise_name\u001b[49m\u001b[38;5;241;43m=\u001b[39;49m\u001b[43mstandardise_name\u001b[49m\u001b[43m,\u001b[49m\n\u001b[1;32m     12\u001b[0m \u001b[43m    \u001b[49m\u001b[38;5;241;43m*\u001b[39;49m\u001b[38;5;241;43m*\u001b[39;49m\u001b[43mselection\u001b[49m\n\u001b[1;32m     13\u001b[0m \u001b[43m)\u001b[49m\n",
      "File \u001b[0;32m/opt/tljh/user/lib/python3.9/site-packages/deafrica_tools/app/imageexport.py:278\u001b[0m, in \u001b[0;36mexport_image_app\u001b[0;34m(geopolygon, date, satellites, style, resolution, vmin, vmax, percentile_stretch, power, image_proc_funcs, output_format, standardise_name)\u001b[0m\n\u001b[1;32m    272\u001b[0m query_params \u001b[38;5;241m=\u001b[39m {\n\u001b[1;32m    273\u001b[0m     \u001b[38;5;124m'\u001b[39m\u001b[38;5;124mtime\u001b[39m\u001b[38;5;124m'\u001b[39m: (\u001b[38;5;28mstr\u001b[39m(start_date)),\n\u001b[1;32m    274\u001b[0m     \u001b[38;5;124m'\u001b[39m\u001b[38;5;124mgeopolygon\u001b[39m\u001b[38;5;124m'\u001b[39m: geopolygon\n\u001b[1;32m    275\u001b[0m }\n\u001b[1;32m    277\u001b[0m \u001b[38;5;66;03m# Find matching datasets\u001b[39;00m\n\u001b[0;32m--> 278\u001b[0m dss \u001b[38;5;241m=\u001b[39m [\n\u001b[1;32m    279\u001b[0m     dc\u001b[38;5;241m.\u001b[39mfind_datasets(product\u001b[38;5;241m=\u001b[39mi, \u001b[38;5;241m*\u001b[39m\u001b[38;5;241m*\u001b[39mquery_params)\n\u001b[1;32m    280\u001b[0m     \u001b[38;5;28;01mfor\u001b[39;00m i \u001b[38;5;129;01min\u001b[39;00m sat_params[satellites][\u001b[38;5;124m'\u001b[39m\u001b[38;5;124mproducts\u001b[39m\u001b[38;5;124m'\u001b[39m]\n\u001b[1;32m    281\u001b[0m ]\n\u001b[1;32m    282\u001b[0m dss \u001b[38;5;241m=\u001b[39m \u001b[38;5;28mlist\u001b[39m(itertools\u001b[38;5;241m.\u001b[39mchain\u001b[38;5;241m.\u001b[39mfrom_iterable(dss))\n\u001b[1;32m    284\u001b[0m \u001b[38;5;66;03m# Get CRS and sensor\u001b[39;00m\n",
      "File \u001b[0;32m/opt/tljh/user/lib/python3.9/site-packages/deafrica_tools/app/imageexport.py:279\u001b[0m, in \u001b[0;36m<listcomp>\u001b[0;34m(.0)\u001b[0m\n\u001b[1;32m    272\u001b[0m query_params \u001b[38;5;241m=\u001b[39m {\n\u001b[1;32m    273\u001b[0m     \u001b[38;5;124m'\u001b[39m\u001b[38;5;124mtime\u001b[39m\u001b[38;5;124m'\u001b[39m: (\u001b[38;5;28mstr\u001b[39m(start_date)),\n\u001b[1;32m    274\u001b[0m     \u001b[38;5;124m'\u001b[39m\u001b[38;5;124mgeopolygon\u001b[39m\u001b[38;5;124m'\u001b[39m: geopolygon\n\u001b[1;32m    275\u001b[0m }\n\u001b[1;32m    277\u001b[0m \u001b[38;5;66;03m# Find matching datasets\u001b[39;00m\n\u001b[1;32m    278\u001b[0m dss \u001b[38;5;241m=\u001b[39m [\n\u001b[0;32m--> 279\u001b[0m     \u001b[43mdc\u001b[49m\u001b[38;5;241;43m.\u001b[39;49m\u001b[43mfind_datasets\u001b[49m\u001b[43m(\u001b[49m\u001b[43mproduct\u001b[49m\u001b[38;5;241;43m=\u001b[39;49m\u001b[43mi\u001b[49m\u001b[43m,\u001b[49m\u001b[43m \u001b[49m\u001b[38;5;241;43m*\u001b[39;49m\u001b[38;5;241;43m*\u001b[39;49m\u001b[43mquery_params\u001b[49m\u001b[43m)\u001b[49m\n\u001b[1;32m    280\u001b[0m     \u001b[38;5;28;01mfor\u001b[39;00m i \u001b[38;5;129;01min\u001b[39;00m sat_params[satellites][\u001b[38;5;124m'\u001b[39m\u001b[38;5;124mproducts\u001b[39m\u001b[38;5;124m'\u001b[39m]\n\u001b[1;32m    281\u001b[0m ]\n\u001b[1;32m    282\u001b[0m dss \u001b[38;5;241m=\u001b[39m \u001b[38;5;28mlist\u001b[39m(itertools\u001b[38;5;241m.\u001b[39mchain\u001b[38;5;241m.\u001b[39mfrom_iterable(dss))\n\u001b[1;32m    284\u001b[0m \u001b[38;5;66;03m# Get CRS and sensor\u001b[39;00m\n",
      "File \u001b[0;32m/opt/tljh/user/lib/python3.9/site-packages/datacube/api/core.py:470\u001b[0m, in \u001b[0;36mDatacube.find_datasets\u001b[0;34m(self, **search_terms)\u001b[0m\n\u001b[1;32m    460\u001b[0m \u001b[38;5;28;01mdef\u001b[39;00m \u001b[38;5;21mfind_datasets\u001b[39m(\u001b[38;5;28mself\u001b[39m, \u001b[38;5;241m*\u001b[39m\u001b[38;5;241m*\u001b[39msearch_terms):\n\u001b[1;32m    461\u001b[0m \u001b[38;5;250m    \u001b[39m\u001b[38;5;124;03m\"\"\"\u001b[39;00m\n\u001b[1;32m    462\u001b[0m \u001b[38;5;124;03m    Search the index and return all datasets for a product matching the search terms.\u001b[39;00m\n\u001b[1;32m    463\u001b[0m \n\u001b[0;32m   (...)\u001b[0m\n\u001b[1;32m    468\u001b[0m \u001b[38;5;124;03m    .. seealso:: :meth:`group_datasets` :meth:`load_data` :meth:`find_datasets_lazy`\u001b[39;00m\n\u001b[1;32m    469\u001b[0m \u001b[38;5;124;03m    \"\"\"\u001b[39;00m\n\u001b[0;32m--> 470\u001b[0m     \u001b[38;5;28;01mreturn\u001b[39;00m \u001b[38;5;28;43mlist\u001b[39;49m\u001b[43m(\u001b[49m\u001b[38;5;28;43mself\u001b[39;49m\u001b[38;5;241;43m.\u001b[39;49m\u001b[43mfind_datasets_lazy\u001b[49m\u001b[43m(\u001b[49m\u001b[38;5;241;43m*\u001b[39;49m\u001b[38;5;241;43m*\u001b[39;49m\u001b[43msearch_terms\u001b[49m\u001b[43m)\u001b[49m\u001b[43m)\u001b[49m\n",
      "File \u001b[0;32m/opt/tljh/user/lib/python3.9/site-packages/datacube/api/core.py:922\u001b[0m, in \u001b[0;36mselect_datasets_inside_polygon\u001b[0;34m(datasets, polygon)\u001b[0m\n\u001b[1;32m    920\u001b[0m \u001b[38;5;28;01massert\u001b[39;00m polygon \u001b[38;5;129;01mis\u001b[39;00m \u001b[38;5;129;01mnot\u001b[39;00m \u001b[38;5;28;01mNone\u001b[39;00m\n\u001b[1;32m    921\u001b[0m query_crs \u001b[38;5;241m=\u001b[39m polygon\u001b[38;5;241m.\u001b[39mcrs\n\u001b[0;32m--> 922\u001b[0m \u001b[38;5;28;01mfor\u001b[39;00m dataset \u001b[38;5;129;01min\u001b[39;00m datasets:\n\u001b[1;32m    923\u001b[0m     \u001b[38;5;28;01mif\u001b[39;00m intersects(polygon, dataset\u001b[38;5;241m.\u001b[39mextent\u001b[38;5;241m.\u001b[39mto_crs(query_crs)):\n\u001b[1;32m    924\u001b[0m         \u001b[38;5;28;01myield\u001b[39;00m dataset\n",
      "File \u001b[0;32m/opt/tljh/user/lib/python3.9/site-packages/datacube/index/postgres/_datasets.py:546\u001b[0m, in \u001b[0;36mDatasetResource.search\u001b[0;34m(self, limit, source_filter, **query)\u001b[0m\n\u001b[1;32m    537\u001b[0m \u001b[38;5;28;01mdef\u001b[39;00m \u001b[38;5;21msearch\u001b[39m(\u001b[38;5;28mself\u001b[39m, limit\u001b[38;5;241m=\u001b[39m\u001b[38;5;28;01mNone\u001b[39;00m, source_filter\u001b[38;5;241m=\u001b[39m\u001b[38;5;28;01mNone\u001b[39;00m, \u001b[38;5;241m*\u001b[39m\u001b[38;5;241m*\u001b[39mquery):\n\u001b[1;32m    538\u001b[0m \u001b[38;5;250m    \u001b[39m\u001b[38;5;124;03m\"\"\"\u001b[39;00m\n\u001b[1;32m    539\u001b[0m \u001b[38;5;124;03m    Perform a search, returning results as Dataset objects.\u001b[39;00m\n\u001b[1;32m    540\u001b[0m \n\u001b[0;32m   (...)\u001b[0m\n\u001b[1;32m    544\u001b[0m \u001b[38;5;124;03m    :rtype: __generator[Dataset]\u001b[39;00m\n\u001b[1;32m    545\u001b[0m \u001b[38;5;124;03m    \"\"\"\u001b[39;00m\n\u001b[0;32m--> 546\u001b[0m     \u001b[38;5;28;01mfor\u001b[39;00m product, datasets \u001b[38;5;129;01min\u001b[39;00m \u001b[38;5;28mself\u001b[39m\u001b[38;5;241m.\u001b[39m_do_search_by_product(query,\n\u001b[1;32m    547\u001b[0m                                                         source_filter\u001b[38;5;241m=\u001b[39msource_filter,\n\u001b[1;32m    548\u001b[0m                                                         limit\u001b[38;5;241m=\u001b[39mlimit):\n\u001b[1;32m    549\u001b[0m         \u001b[38;5;28;01myield from\u001b[39;00m \u001b[38;5;28mself\u001b[39m\u001b[38;5;241m.\u001b[39m_make_many(datasets, product)\n",
      "File \u001b[0;32m/opt/tljh/user/lib/python3.9/site-packages/datacube/index/postgres/_datasets.py:675\u001b[0m, in \u001b[0;36mDatasetResource._do_search_by_product\u001b[0;34m(self, query, return_fields, select_field_names, with_source_ids, source_filter, limit)\u001b[0m\n\u001b[1;32m    673\u001b[0m         \u001b[38;5;28;01mraise\u001b[39;00m \u001b[38;5;167;01mValueError\u001b[39;00m(\u001b[38;5;124m'\u001b[39m\u001b[38;5;124mNo products match search terms: \u001b[39m\u001b[38;5;132;01m%r\u001b[39;00m\u001b[38;5;124m'\u001b[39m \u001b[38;5;241m%\u001b[39m query)\n\u001b[1;32m    674\u001b[0m     \u001b[38;5;28;01melse\u001b[39;00m:\n\u001b[0;32m--> 675\u001b[0m         \u001b[38;5;28;01mraise\u001b[39;00m \u001b[38;5;167;01mValueError\u001b[39;00m(\u001b[38;5;124mf\u001b[39m\u001b[38;5;124m\"\u001b[39m\u001b[38;5;124mNo such product: \u001b[39m\u001b[38;5;132;01m{\u001b[39;00mproduct\u001b[38;5;132;01m}\u001b[39;00m\u001b[38;5;124m\"\u001b[39m)\n\u001b[1;32m    677\u001b[0m \u001b[38;5;28;01mfor\u001b[39;00m q, product \u001b[38;5;129;01min\u001b[39;00m product_queries:\n\u001b[1;32m    678\u001b[0m     dataset_fields \u001b[38;5;241m=\u001b[39m product\u001b[38;5;241m.\u001b[39mmetadata_type\u001b[38;5;241m.\u001b[39mdataset_fields\n",
      "\u001b[0;31mValueError\u001b[0m: No such product: gm_s2_annual"
     ]
    }
   ],
   "source": [
    "# Load data and export image\n",
    "export_image_app(\n",
    "    style=style,\n",
    "    resolution=resolution,\n",
    "    vmin=vmin,\n",
    "    vmax=vmax,\n",
    "    percentile_stretch=percentile_stretch,\n",
    "    power=power,\n",
    "    image_proc_funcs=image_proc_funcs,\n",
    "    output_format=output_format,\n",
    "    standardise_name=standardise_name,\n",
    "    **selection\n",
    ")"
   ]
  },
  {
   "cell_type": "markdown",
   "id": "98914fc3",
   "metadata": {},
   "source": [
    "## Downloading exported image\n",
    "\n",
    "The image export will be completed when <b>Finished exporting image</b> appears above, and a preview of your image is shown below the map.\n",
    "\n",
    "The high resolution image file generated above will be saved to the same location you are running this notebook from (e.g. typically `Real_world_examples`). In JupyterLab, use the file browser to locate the image file with a name in the following format:\n",
    "\n",
    "`Sentinel-2A - 2020-01-30 - Bitou Local Municipality, Western Cape - True colour, 10 m resolution`\n",
    "\n",
    "If you are using the <b>VA DataCube Sandbox</b>, you can download the image to your PC by right clicking on the image file and selecting <b>download</b>."
   ]
  },
  {
   "cell_type": "markdown",
   "id": "c0393164-bba7-423f-b160-6a9db0229497",
   "metadata": {},
   "source": [
    "## Next steps\n",
    "\n",
    "When you are done, return to the Analysis parameters section, modify some values and rerun the analysis. For example, you could try:\n",
    "\n",
    "- Change `satellites` to `\"Landsat\"` to export a Landsat image instead of `Sentinel-2`.\n",
    "- Modify `style` to `\"False colour\"` to export a false colour view of the landscape that highlights growing vegetation and water.\n",
    "- Specify a custom resolution, e.g. `resolution = (-1000, 1000)`.\n",
    "- Experiment with the `vmin, vmax`, `percentile_stretch` and `power` parameters to alter the appearance of the resulting image."
   ]
  },
  {
   "cell_type": "markdown",
   "id": "a1add747",
   "metadata": {},
   "source": [
    "***\n",
    "## Additional information\n",
    "\n",
    "**License:** The code in this notebook is licensed under the [Apache License, Version 2.0](https://www.apache.org/licenses/LICENSE-2.0). \n",
    "\n",
    "\n",
    "**Contact:** If you need assistance, please post a question on the [Open Data Cube Slack channel](http://slack.opendatacube.org/) or on the [GIS Stack Exchange](https://gis.stackexchange.com/questions/ask?tags=open-data-cube) using the `open-data-cube` tag (you can view previously asked questions [here](https://gis.stackexchange.com/questions/tagged/open-data-cube)).\n",
    "If you would like to report an issue with this notebook, you can file one on [Github](https://github.com/digitalearthafrica/deafrica-sandbox-notebooks).\n",
    "\n",
    "**Last modified:** June 2023\n",
    "\n",
    "**Compatible datacube version:** "
   ]
  },
  {
   "cell_type": "code",
   "execution_count": 9,
   "id": "0437ddd5",
   "metadata": {},
   "outputs": [
    {
     "name": "stdout",
     "output_type": "stream",
     "text": [
      "1.8.6\n"
     ]
    }
   ],
   "source": [
    "print(datacube.__version__)"
   ]
  },
  {
   "cell_type": "markdown",
   "id": "b9b4c2e9",
   "metadata": {},
   "source": [
    "## Tags \n",
    "Browse all available tags on the VA Data Cube User Guide's Tags Index "
   ]
  }
 ],
 "metadata": {
  "kernelspec": {
   "display_name": "Python 3 (ipykernel)",
   "language": "python",
   "name": "python3"
  },
  "language_info": {
   "codemirror_mode": {
    "name": "ipython",
    "version": 3
   },
   "file_extension": ".py",
   "mimetype": "text/x-python",
   "name": "python",
   "nbconvert_exporter": "python",
   "pygments_lexer": "ipython3",
   "version": "3.9.7"
  }
 },
 "nbformat": 4,
 "nbformat_minor": 5
}
