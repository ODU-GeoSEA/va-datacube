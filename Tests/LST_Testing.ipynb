{
 "cells": [
  {
   "cell_type": "markdown",
   "id": "b1a961b5",
   "metadata": {},
   "source": [
    "![data cube logo](https://static.wixstatic.com/media/8959d6_a13dc7ece5be4678af57c8f7c1667734~mv2.png/v1/fill/w_279,h_177,al_c,q_85,usm_0.66_1.00_0.01,enc_auto/VSDC_DataCubeSplash_6Partner_edited.png)\n",
    "# Land Surface Temperature Product Testing\n",
    "\n",
    " - Sign up to the VA Datacube (INSERT LINK) to run this notebook interactively from a browser\n",
    " - <b>Compatibility</b>: Notebook currently compatible with both the NCI and DEA Sandbox environments    \n",
    "\n",
    " - <b>Products used</b>:\n",
    "    \n",
    "    products....\n",
    " \n",
    " - <b>Special requirements:</b> An optional description of any special requirements, e.g. If running on the NCI, ensure that\n",
    "    module load otps is run prior to launching this notebook\n",
    " \n",
    " - <b>Prerequisites:</b> An <i>optional</i> list of any notebooks that should be run or content that should be understood\n",
    "    prior to launching this notebook\n",
    " \n",
    " - <b>Notebook Use:</b> If you would like to modify and save this notebook, please copy and paste it into your own folder on the data cube, here is how:\n",
    "\n",
    " \n"
   ]
  },
  {
   "cell_type": "markdown",
   "id": "26bba8c7",
   "metadata": {},
   "source": [
    "## Background\n",
    "\n",
    "\n",
    "An <i>optional</i> overview of the scientific, economic or environmental management issue or challenge being addressed by Digital Earth Australia. For Beginners_Guide or Frequently_Used_Code notebooks, this may include information about why the particular technique or approach is useful or required. If you need to cite a scientific paper or link to a website, use a persistent DOI link if possible and link in-text (e.g. Dhu et al. 2017)."
   ]
  },
  {
   "cell_type": "markdown",
   "id": "c3370de1",
   "metadata": {},
   "source": [
    "## Description\n",
    "\n",
    "A <i>compulsory</i> description of the notebook, including a brief overview of how Digital Earth Australia helps to address the problem set out above. It can be good to include a run-down of the tools/methods that will be demonstrated in the notebook:\n",
    "\n",
    "1. First we do this\n",
    "2. Then we do this\n",
    "3. Finally we do this"
   ]
  },
  {
   "cell_type": "markdown",
   "id": "6a10a543",
   "metadata": {},
   "source": [
    "---------------------------------------------------------------------------------------------------------------------------"
   ]
  },
  {
   "cell_type": "markdown",
   "id": "d1d817a9",
   "metadata": {},
   "source": [
    "## Getting started\n",
    "\n",
    "\n",
    "Provide any particular instructions that the user might need, e.g. To run this analysis, run all the cells in the notebook, starting with the \"Load packages\" cell."
   ]
  },
  {
   "cell_type": "markdown",
   "id": "5881476c",
   "metadata": {},
   "source": [
    "### Load packages\n",
    "Import Python packages that are used for the analysis.\n",
    "\n",
    "Use standard import commands; some are shown below. Begin with any iPython magic commands, followed by standard Python packages, then any additional functionality you need from the Scripts directory."
   ]
  },
  {
   "cell_type": "code",
   "execution_count": 1,
   "id": "1c851db3",
   "metadata": {},
   "outputs": [],
   "source": [
    "%matplotlib inline\n",
    "\n",
    "import datacube\n",
    "import numpy as np\n",
    "import xarray as xr\n",
    "import matplotlib.pyplot as plt\n",
    "\n",
    "from deafrica_tools.load_era5 import load_era5\n",
    "from deafrica_tools.datahandling import load_ard, mostcommon_crs\n",
    "from deafrica_tools.plotting import rgb"
   ]
  },
  {
   "cell_type": "markdown",
   "id": "36877232",
   "metadata": {},
   "source": [
    "### Connect to the datacube\n",
    "\n",
    "Connect to the datacube so we can access DEA data. The app parameter is a unique name for the analysis which is based on the notebook file name"
   ]
  },
  {
   "cell_type": "code",
   "execution_count": 2,
   "id": "fe072223",
   "metadata": {},
   "outputs": [],
   "source": [
    "dc = datacube.Datacube(app='LST_Testing')"
   ]
  },
  {
   "cell_type": "markdown",
   "id": "52e0ded8",
   "metadata": {},
   "source": [
    "### Analysis parameters\n",
    "An optional section to inform the user of any parameters they'll need to configure to run the notebook:\n",
    " - param_name_1: Simple description (e.g. example_value). Advice about appropriate values to choose for this parameter.\n",
    " - param_name_2: Simple description (e.g. example_value). Advice about appropriate values to choose for this parameter.\n",
    "\n",
    " "
   ]
  },
  {
   "cell_type": "code",
   "execution_count": 3,
   "id": "eb60c43b",
   "metadata": {},
   "outputs": [],
   "source": [
    "param_name_1 = 'example_value'\n",
    "param_name_2 = 'example_value'"
   ]
  },
  {
   "cell_type": "markdown",
   "id": "bd5d270a",
   "metadata": {},
   "source": [
    "## Heading 1\n",
    "\n",
    "Use headings to break up key steps/stages of the notebook.\n",
    "\n",
    "Use markdown text for detailed, descriptive text explaining what the code below does and why it is needed.\n",
    "\n",
    "<b>Note</b>: Use this markdown format (sparingly) to draw particular attention to an important point or caveat"
   ]
  },
  {
   "cell_type": "code",
   "execution_count": 6,
   "id": "1ff8da02",
   "metadata": {},
   "outputs": [
    {
     "data": {
      "text/html": [
       "<div>\n",
       "<style scoped>\n",
       "    .dataframe tbody tr th:only-of-type {\n",
       "        vertical-align: middle;\n",
       "    }\n",
       "\n",
       "    .dataframe tbody tr th {\n",
       "        vertical-align: top;\n",
       "    }\n",
       "\n",
       "    .dataframe thead th {\n",
       "        text-align: right;\n",
       "    }\n",
       "</style>\n",
       "<table border=\"1\" class=\"dataframe\">\n",
       "  <thead>\n",
       "    <tr style=\"text-align: right;\">\n",
       "      <th></th>\n",
       "      <th>description</th>\n",
       "    </tr>\n",
       "    <tr>\n",
       "      <th>name</th>\n",
       "      <th></th>\n",
       "    </tr>\n",
       "  </thead>\n",
       "  <tbody>\n",
       "    <tr>\n",
       "      <th>ls5_c2l2_st</th>\n",
       "      <td>USGS Landsat 5 Collection 2 Level-2 Surface Te...</td>\n",
       "    </tr>\n",
       "    <tr>\n",
       "      <th>ls5_c2l2_st_v2</th>\n",
       "      <td>USGS Landsat 5 Collection 2 Level-2 Surface Te...</td>\n",
       "    </tr>\n",
       "    <tr>\n",
       "      <th>ls7_c2l2_st</th>\n",
       "      <td>USGS Landsat 7 Collection 2 Level-2 Surface Te...</td>\n",
       "    </tr>\n",
       "    <tr>\n",
       "      <th>ls7_c2l2_st_v2</th>\n",
       "      <td>USGS Landsat 7 Collection 2 Level-2 Surface Te...</td>\n",
       "    </tr>\n",
       "    <tr>\n",
       "      <th>ls8_c2l2_st</th>\n",
       "      <td>USGS Landsat 8 Collection 2 Level-2 Surface Te...</td>\n",
       "    </tr>\n",
       "    <tr>\n",
       "      <th>ls8_c2l2_st_v2</th>\n",
       "      <td>USGS Landsat 8 Collection 2 Level-2 Surface Te...</td>\n",
       "    </tr>\n",
       "    <tr>\n",
       "      <th>ls9_c2l2_st</th>\n",
       "      <td>USGS Landsat 9 Collection 2 Level-2 Surface Te...</td>\n",
       "    </tr>\n",
       "    <tr>\n",
       "      <th>ls9_c2l2_st_v2</th>\n",
       "      <td>USGS Landsat 9 Collection 2 Level-2 Surface Te...</td>\n",
       "    </tr>\n",
       "  </tbody>\n",
       "</table>\n",
       "</div>"
      ],
      "text/plain": [
       "                                                      description\n",
       "name                                                             \n",
       "ls5_c2l2_st     USGS Landsat 5 Collection 2 Level-2 Surface Te...\n",
       "ls5_c2l2_st_v2  USGS Landsat 5 Collection 2 Level-2 Surface Te...\n",
       "ls7_c2l2_st     USGS Landsat 7 Collection 2 Level-2 Surface Te...\n",
       "ls7_c2l2_st_v2  USGS Landsat 7 Collection 2 Level-2 Surface Te...\n",
       "ls8_c2l2_st     USGS Landsat 8 Collection 2 Level-2 Surface Te...\n",
       "ls8_c2l2_st_v2  USGS Landsat 8 Collection 2 Level-2 Surface Te...\n",
       "ls9_c2l2_st     USGS Landsat 9 Collection 2 Level-2 Surface Te...\n",
       "ls9_c2l2_st_v2  USGS Landsat 9 Collection 2 Level-2 Surface Te..."
      ]
     },
     "execution_count": 6,
     "metadata": {},
     "output_type": "execute_result"
    }
   ],
   "source": [
    "# List Landsat products available in DE Africa\n",
    "dc_products = dc.list_products()\n",
    "display_columns = ['name', 'description']\n",
    "dc_products[dc_products.name.str.contains(\n",
    "    '_st').fillna(\n",
    "        False)][display_columns].set_index('name')"
   ]
  },
  {
   "cell_type": "code",
   "execution_count": 7,
   "id": "4c66d737-327a-4745-a321-c31fbc13f1ce",
   "metadata": {
    "tags": []
   },
   "outputs": [
    {
     "data": {
      "text/html": [
       "<div>\n",
       "<style scoped>\n",
       "    .dataframe tbody tr th:only-of-type {\n",
       "        vertical-align: middle;\n",
       "    }\n",
       "\n",
       "    .dataframe tbody tr th {\n",
       "        vertical-align: top;\n",
       "    }\n",
       "\n",
       "    .dataframe thead th {\n",
       "        text-align: right;\n",
       "    }\n",
       "</style>\n",
       "<table border=\"1\" class=\"dataframe\">\n",
       "  <thead>\n",
       "    <tr style=\"text-align: right;\">\n",
       "      <th></th>\n",
       "      <th>name</th>\n",
       "      <th>dtype</th>\n",
       "      <th>units</th>\n",
       "      <th>nodata</th>\n",
       "      <th>aliases</th>\n",
       "      <th>flags_definition</th>\n",
       "    </tr>\n",
       "    <tr>\n",
       "      <th>measurement</th>\n",
       "      <th></th>\n",
       "      <th></th>\n",
       "      <th></th>\n",
       "      <th></th>\n",
       "      <th></th>\n",
       "      <th></th>\n",
       "    </tr>\n",
       "  </thead>\n",
       "  <tbody>\n",
       "    <tr>\n",
       "      <th>ST_B6</th>\n",
       "      <td>ST_B6</td>\n",
       "      <td>uint16</td>\n",
       "      <td>Kelvin</td>\n",
       "      <td>0</td>\n",
       "      <td>[band_6, st, surface_temperature]</td>\n",
       "      <td>NaN</td>\n",
       "    </tr>\n",
       "    <tr>\n",
       "      <th>ST_TRAD</th>\n",
       "      <td>ST_TRAD</td>\n",
       "      <td>int16</td>\n",
       "      <td>W/(m2.sr.μm)</td>\n",
       "      <td>-9999</td>\n",
       "      <td>[trad, thermal_radiance]</td>\n",
       "      <td>NaN</td>\n",
       "    </tr>\n",
       "    <tr>\n",
       "      <th>ST_URAD</th>\n",
       "      <td>ST_URAD</td>\n",
       "      <td>int16</td>\n",
       "      <td>W/(m2.sr.μm)</td>\n",
       "      <td>-9999</td>\n",
       "      <td>[urad, upwell_radiance]</td>\n",
       "      <td>NaN</td>\n",
       "    </tr>\n",
       "    <tr>\n",
       "      <th>ST_DRAD</th>\n",
       "      <td>ST_DRAD</td>\n",
       "      <td>int16</td>\n",
       "      <td>W/(m2.sr.μm)</td>\n",
       "      <td>-9999</td>\n",
       "      <td>[drad, downwell_radiance]</td>\n",
       "      <td>NaN</td>\n",
       "    </tr>\n",
       "    <tr>\n",
       "      <th>ST_ATRAN</th>\n",
       "      <td>ST_ATRAN</td>\n",
       "      <td>int16</td>\n",
       "      <td>1</td>\n",
       "      <td>-9999</td>\n",
       "      <td>[atran, atmospheric_transmittance]</td>\n",
       "      <td>NaN</td>\n",
       "    </tr>\n",
       "    <tr>\n",
       "      <th>ST_EMIS</th>\n",
       "      <td>ST_EMIS</td>\n",
       "      <td>int16</td>\n",
       "      <td>1</td>\n",
       "      <td>-9999</td>\n",
       "      <td>[emis, emissivity]</td>\n",
       "      <td>NaN</td>\n",
       "    </tr>\n",
       "    <tr>\n",
       "      <th>ST_EMSD</th>\n",
       "      <td>ST_EMSD</td>\n",
       "      <td>int16</td>\n",
       "      <td>1</td>\n",
       "      <td>-9999</td>\n",
       "      <td>[emsd, emissivity_stddev]</td>\n",
       "      <td>NaN</td>\n",
       "    </tr>\n",
       "    <tr>\n",
       "      <th>ST_CDIST</th>\n",
       "      <td>ST_CDIST</td>\n",
       "      <td>int16</td>\n",
       "      <td>Kilometers</td>\n",
       "      <td>-9999</td>\n",
       "      <td>[cdist, cloud_distance]</td>\n",
       "      <td>NaN</td>\n",
       "    </tr>\n",
       "    <tr>\n",
       "      <th>QA_PIXEL</th>\n",
       "      <td>QA_PIXEL</td>\n",
       "      <td>uint16</td>\n",
       "      <td>bit_index</td>\n",
       "      <td>1</td>\n",
       "      <td>[pq, pixel_quality]</td>\n",
       "      <td>{'snow': {'bits': 5, 'values': {'0': 'not_high...</td>\n",
       "    </tr>\n",
       "    <tr>\n",
       "      <th>QA_RADSAT</th>\n",
       "      <td>QA_RADSAT</td>\n",
       "      <td>uint16</td>\n",
       "      <td>bit_index</td>\n",
       "      <td>0</td>\n",
       "      <td>[radsat, radiometric_saturation]</td>\n",
       "      <td>{'dropped_pixel': {'bits': 9, 'values': {'0': ...</td>\n",
       "    </tr>\n",
       "    <tr>\n",
       "      <th>ST_QA</th>\n",
       "      <td>ST_QA</td>\n",
       "      <td>int16</td>\n",
       "      <td>Kelvin</td>\n",
       "      <td>-9999</td>\n",
       "      <td>[st_qa, surface_temperature_quality]</td>\n",
       "      <td>NaN</td>\n",
       "    </tr>\n",
       "  </tbody>\n",
       "</table>\n",
       "</div>"
      ],
      "text/plain": [
       "                  name   dtype         units  nodata  \\\n",
       "measurement                                            \n",
       "ST_B6            ST_B6  uint16        Kelvin       0   \n",
       "ST_TRAD        ST_TRAD   int16  W/(m2.sr.μm)   -9999   \n",
       "ST_URAD        ST_URAD   int16  W/(m2.sr.μm)   -9999   \n",
       "ST_DRAD        ST_DRAD   int16  W/(m2.sr.μm)   -9999   \n",
       "ST_ATRAN      ST_ATRAN   int16             1   -9999   \n",
       "ST_EMIS        ST_EMIS   int16             1   -9999   \n",
       "ST_EMSD        ST_EMSD   int16             1   -9999   \n",
       "ST_CDIST      ST_CDIST   int16    Kilometers   -9999   \n",
       "QA_PIXEL      QA_PIXEL  uint16     bit_index       1   \n",
       "QA_RADSAT    QA_RADSAT  uint16     bit_index       0   \n",
       "ST_QA            ST_QA   int16        Kelvin   -9999   \n",
       "\n",
       "                                          aliases  \\\n",
       "measurement                                         \n",
       "ST_B6           [band_6, st, surface_temperature]   \n",
       "ST_TRAD                  [trad, thermal_radiance]   \n",
       "ST_URAD                   [urad, upwell_radiance]   \n",
       "ST_DRAD                 [drad, downwell_radiance]   \n",
       "ST_ATRAN       [atran, atmospheric_transmittance]   \n",
       "ST_EMIS                        [emis, emissivity]   \n",
       "ST_EMSD                 [emsd, emissivity_stddev]   \n",
       "ST_CDIST                  [cdist, cloud_distance]   \n",
       "QA_PIXEL                      [pq, pixel_quality]   \n",
       "QA_RADSAT        [radsat, radiometric_saturation]   \n",
       "ST_QA        [st_qa, surface_temperature_quality]   \n",
       "\n",
       "                                              flags_definition  \n",
       "measurement                                                     \n",
       "ST_B6                                                      NaN  \n",
       "ST_TRAD                                                    NaN  \n",
       "ST_URAD                                                    NaN  \n",
       "ST_DRAD                                                    NaN  \n",
       "ST_ATRAN                                                   NaN  \n",
       "ST_EMIS                                                    NaN  \n",
       "ST_EMSD                                                    NaN  \n",
       "ST_CDIST                                                   NaN  \n",
       "QA_PIXEL     {'snow': {'bits': 5, 'values': {'0': 'not_high...  \n",
       "QA_RADSAT    {'dropped_pixel': {'bits': 9, 'values': {'0': ...  \n",
       "ST_QA                                                      NaN  "
      ]
     },
     "execution_count": 7,
     "metadata": {},
     "output_type": "execute_result"
    }
   ],
   "source": [
    "#List measurements\n",
    "dc_measurements = dc.list_measurements()\n",
    "dc_measurements.loc['ls7_c2l2_st']"
   ]
  },
  {
   "cell_type": "code",
   "execution_count": 10,
   "id": "a5486e80-a9bd-4ddb-be6c-2ff849847d0c",
   "metadata": {
    "tags": []
   },
   "outputs": [],
   "source": [
    "# Define the analysis region (Lat-Lon box)\n",
    "lat = 37.208168 \n",
    "lon = -80.443249 \n",
    "\n",
    "#This is going to control how large the study area is. \n",
    "lon_buffer = 0.003\n",
    "lat_buffer = 0.003\n",
    "\n",
    "# Define the time window\n",
    "time_range = ('2021-01', '2022-12')\n",
    "\n",
    "# Combine central lat,lon with buffer to get area of interest\n",
    "lat_range = (lat-lat_buffer, lat+lat_buffer)\n",
    "lon_range = (lon-lon_buffer, lon+lon_buffer)\n",
    "\n",
    "# Load land surface temperature and quality assessment\n",
    "# We can use the alias names to call the bands\n",
    "measurements = ['surface_temperature', 'surface_temperature_quality']\n",
    "#measurements = ['thermal_radiance']\n"
   ]
  },
  {
   "cell_type": "code",
   "execution_count": 11,
   "id": "308bdec4-d219-453d-bb59-6aa4c27c8940",
   "metadata": {
    "tags": []
   },
   "outputs": [
    {
     "name": "stdout",
     "output_type": "stream",
     "text": [
      "Using pixel quality parameters for USGS Collection 2\n",
      "Finding datasets\n",
      "    ls7_c2l2_st_v2\n"
     ]
    },
    {
     "ename": "KeyError",
     "evalue": "'surface_temperature_quality'",
     "output_type": "error",
     "traceback": [
      "\u001b[0;31m---------------------------------------------------------------------------\u001b[0m",
      "\u001b[0;31mKeyError\u001b[0m                                  Traceback (most recent call last)",
      "Cell \u001b[0;32mIn[11], line 13\u001b[0m\n\u001b[1;32m      2\u001b[0m query \u001b[38;5;241m=\u001b[39m {\n\u001b[1;32m      3\u001b[0m     \u001b[38;5;124m'\u001b[39m\u001b[38;5;124my\u001b[39m\u001b[38;5;124m'\u001b[39m: lat_range,\n\u001b[1;32m      4\u001b[0m     \u001b[38;5;124m'\u001b[39m\u001b[38;5;124mx\u001b[39m\u001b[38;5;124m'\u001b[39m: lon_range,\n\u001b[0;32m   (...)\u001b[0m\n\u001b[1;32m      9\u001b[0m     \u001b[38;5;124m'\u001b[39m\u001b[38;5;124mgroup_by\u001b[39m\u001b[38;5;124m'\u001b[39m:\u001b[38;5;124m'\u001b[39m\u001b[38;5;124msolar_day\u001b[39m\u001b[38;5;124m'\u001b[39m\n\u001b[1;32m     10\u001b[0m }\n\u001b[1;32m     12\u001b[0m \u001b[38;5;66;03m# Load available data from Sentinel-2\u001b[39;00m\n\u001b[0;32m---> 13\u001b[0m ds \u001b[38;5;241m=\u001b[39m \u001b[43mload_ard\u001b[49m\u001b[43m(\u001b[49m\n\u001b[1;32m     14\u001b[0m \u001b[43m    \u001b[49m\u001b[43mdc\u001b[49m\u001b[38;5;241;43m=\u001b[39;49m\u001b[43mdc\u001b[49m\u001b[43m,\u001b[49m\n\u001b[1;32m     15\u001b[0m \u001b[43m    \u001b[49m\u001b[43mproducts\u001b[49m\u001b[38;5;241;43m=\u001b[39;49m\u001b[43m[\u001b[49m\u001b[38;5;124;43m'\u001b[39;49m\u001b[38;5;124;43mls7_c2l2_st_v2\u001b[39;49m\u001b[38;5;124;43m'\u001b[39;49m\u001b[43m]\u001b[49m\u001b[43m,\u001b[49m\n\u001b[1;32m     16\u001b[0m \u001b[43m    \u001b[49m\u001b[43mmask_filters\u001b[49m\u001b[38;5;241;43m=\u001b[39;49m\u001b[43m[\u001b[49m\u001b[43m(\u001b[49m\u001b[38;5;124;43m'\u001b[39;49m\u001b[38;5;124;43mopening\u001b[39;49m\u001b[38;5;124;43m'\u001b[39;49m\u001b[43m,\u001b[49m\u001b[43m \u001b[49m\u001b[38;5;241;43m3\u001b[39;49m\u001b[43m)\u001b[49m\u001b[43m,\u001b[49m\u001b[43m(\u001b[49m\u001b[38;5;124;43m'\u001b[39;49m\u001b[38;5;124;43mdilation\u001b[39;49m\u001b[38;5;124;43m'\u001b[39;49m\u001b[43m,\u001b[49m\u001b[43m \u001b[49m\u001b[38;5;241;43m3\u001b[39;49m\u001b[43m)\u001b[49m\u001b[43m]\u001b[49m\u001b[43m,\u001b[49m\n\u001b[1;32m     17\u001b[0m \u001b[43m    \u001b[49m\u001b[38;5;241;43m*\u001b[39;49m\u001b[38;5;241;43m*\u001b[39;49m\u001b[43mquery\u001b[49m\u001b[43m,\u001b[49m\n\u001b[1;32m     18\u001b[0m \u001b[43m)\u001b[49m\n\u001b[1;32m     20\u001b[0m \u001b[38;5;28mprint\u001b[39m(ds)\n",
      "File \u001b[0;32m/opt/tljh/user/lib/python3.9/site-packages/deafrica_tools/datahandling.py:443\u001b[0m, in \u001b[0;36mload_ard\u001b[0;34m(dc, products, min_gooddata, categories_to_mask_ls, categories_to_mask_s2, categories_to_mask_s1, mask_filters, mask_pixel_quality, ls7_slc_off, predicate, dtype, verbose, **kwargs)\u001b[0m\n\u001b[1;32m    435\u001b[0m     \u001b[38;5;28;01mraise\u001b[39;00m \u001b[38;5;167;01mValueError\u001b[39;00m(\u001b[38;5;124m\"\u001b[39m\u001b[38;5;124mNo data available after filtering with \u001b[39m\u001b[38;5;124m\"\u001b[39m \u001b[38;5;124m\"\u001b[39m\u001b[38;5;124mfilter function\u001b[39m\u001b[38;5;124m\"\u001b[39m)\n\u001b[1;32m    437\u001b[0m \u001b[38;5;66;03m#############\u001b[39;00m\n\u001b[1;32m    438\u001b[0m \u001b[38;5;66;03m# Load data #\u001b[39;00m\n\u001b[1;32m    439\u001b[0m \u001b[38;5;66;03m#############\u001b[39;00m\n\u001b[1;32m    440\u001b[0m \n\u001b[1;32m    441\u001b[0m \u001b[38;5;66;03m# Note we always load using dask here so that\u001b[39;00m\n\u001b[1;32m    442\u001b[0m \u001b[38;5;66;03m# we can lazy load data before filtering by good data\u001b[39;00m\n\u001b[0;32m--> 443\u001b[0m ds \u001b[38;5;241m=\u001b[39m \u001b[43mdc\u001b[49m\u001b[38;5;241;43m.\u001b[39;49m\u001b[43mload\u001b[49m\u001b[43m(\u001b[49m\n\u001b[1;32m    444\u001b[0m \u001b[43m    \u001b[49m\u001b[43mdatasets\u001b[49m\u001b[38;5;241;43m=\u001b[39;49m\u001b[43mdataset_list\u001b[49m\u001b[43m,\u001b[49m\n\u001b[1;32m    445\u001b[0m \u001b[43m    \u001b[49m\u001b[43mmeasurements\u001b[49m\u001b[38;5;241;43m=\u001b[39;49m\u001b[43mmeasurements\u001b[49m\u001b[43m,\u001b[49m\n\u001b[1;32m    446\u001b[0m \u001b[43m    \u001b[49m\u001b[43mdask_chunks\u001b[49m\u001b[38;5;241;43m=\u001b[39;49m\u001b[43m{\u001b[49m\u001b[43m}\u001b[49m\u001b[43m \u001b[49m\u001b[38;5;28;43;01mif\u001b[39;49;00m\u001b[43m \u001b[49m\u001b[43mdask_chunks\u001b[49m\u001b[43m \u001b[49m\u001b[38;5;129;43;01mis\u001b[39;49;00m\u001b[43m \u001b[49m\u001b[38;5;28;43;01mNone\u001b[39;49;00m\u001b[43m \u001b[49m\u001b[38;5;28;43;01melse\u001b[39;49;00m\u001b[43m \u001b[49m\u001b[43mdask_chunks\u001b[49m\u001b[43m,\u001b[49m\n\u001b[1;32m    447\u001b[0m \u001b[43m    \u001b[49m\u001b[38;5;241;43m*\u001b[39;49m\u001b[38;5;241;43m*\u001b[39;49m\u001b[43mkwargs\u001b[49m\u001b[43m,\u001b[49m\n\u001b[1;32m    448\u001b[0m \u001b[43m\u001b[49m\u001b[43m)\u001b[49m\n\u001b[1;32m    450\u001b[0m \u001b[38;5;66;03m####################\u001b[39;00m\n\u001b[1;32m    451\u001b[0m \u001b[38;5;66;03m# Filter good data #\u001b[39;00m\n\u001b[1;32m    452\u001b[0m \u001b[38;5;66;03m####################\u001b[39;00m\n\u001b[0;32m   (...)\u001b[0m\n\u001b[1;32m    456\u001b[0m \n\u001b[1;32m    457\u001b[0m \u001b[38;5;66;03m# collection 2 USGS\u001b[39;00m\n\u001b[1;32m    458\u001b[0m \u001b[38;5;28;01mif\u001b[39;00m product_type \u001b[38;5;241m==\u001b[39m \u001b[38;5;124m\"\u001b[39m\u001b[38;5;124mls\u001b[39m\u001b[38;5;124m\"\u001b[39m:\n",
      "File \u001b[0;32m/opt/tljh/user/lib/python3.9/site-packages/datacube/api/core.py:444\u001b[0m, in \u001b[0;36mDatacube.load\u001b[0;34m(self, product, measurements, output_crs, resolution, resampling, skip_broken_datasets, dask_chunks, like, fuse_func, align, datasets, dataset_predicate, progress_cbk, patch_url, **query)\u001b[0m\n\u001b[1;32m    441\u001b[0m group_by \u001b[38;5;241m=\u001b[39m query_group_by(\u001b[38;5;241m*\u001b[39m\u001b[38;5;241m*\u001b[39mquery)\n\u001b[1;32m    442\u001b[0m grouped \u001b[38;5;241m=\u001b[39m \u001b[38;5;28mself\u001b[39m\u001b[38;5;241m.\u001b[39mgroup_datasets(datasets, group_by)\n\u001b[0;32m--> 444\u001b[0m measurement_dicts \u001b[38;5;241m=\u001b[39m \u001b[43mdatacube_product\u001b[49m\u001b[38;5;241;43m.\u001b[39;49m\u001b[43mlookup_measurements\u001b[49m\u001b[43m(\u001b[49m\u001b[43mmeasurements\u001b[49m\u001b[43m)\u001b[49m\n\u001b[1;32m    446\u001b[0m \u001b[38;5;66;03m# `extra_dims` put last for backwards compability, but should really be the second position\u001b[39;00m\n\u001b[1;32m    447\u001b[0m \u001b[38;5;66;03m# betwween `grouped` and `geobox`\u001b[39;00m\n\u001b[1;32m    448\u001b[0m result \u001b[38;5;241m=\u001b[39m \u001b[38;5;28mself\u001b[39m\u001b[38;5;241m.\u001b[39mload_data(grouped, geobox,\n\u001b[1;32m    449\u001b[0m                         measurement_dicts,\n\u001b[1;32m    450\u001b[0m                         resampling\u001b[38;5;241m=\u001b[39mresampling,\n\u001b[0;32m   (...)\u001b[0m\n\u001b[1;32m    455\u001b[0m                         extra_dims\u001b[38;5;241m=\u001b[39mextra_dims,\n\u001b[1;32m    456\u001b[0m                         patch_url\u001b[38;5;241m=\u001b[39mpatch_url)\n",
      "File \u001b[0;32m/opt/tljh/user/lib/python3.9/site-packages/datacube/model/__init__.py:602\u001b[0m, in \u001b[0;36mProduct.lookup_measurements\u001b[0;34m(self, measurements)\u001b[0m\n\u001b[1;32m    599\u001b[0m     measurements \u001b[38;5;241m=\u001b[39m [measurements]\n\u001b[1;32m    601\u001b[0m mm \u001b[38;5;241m=\u001b[39m \u001b[38;5;28mself\u001b[39m\u001b[38;5;241m.\u001b[39m_resolve_aliases()\n\u001b[0;32m--> 602\u001b[0m \u001b[38;5;28;01mreturn\u001b[39;00m \u001b[43mOrderedDict\u001b[49m\u001b[43m(\u001b[49m\u001b[43m(\u001b[49m\u001b[43mm\u001b[49m\u001b[43m,\u001b[49m\u001b[43m \u001b[49m\u001b[43mmm\u001b[49m\u001b[43m[\u001b[49m\u001b[43mm\u001b[49m\u001b[43m]\u001b[49m\u001b[43m)\u001b[49m\u001b[43m \u001b[49m\u001b[38;5;28;43;01mfor\u001b[39;49;00m\u001b[43m \u001b[49m\u001b[43mm\u001b[49m\u001b[43m \u001b[49m\u001b[38;5;129;43;01min\u001b[39;49;00m\u001b[43m \u001b[49m\u001b[43mmeasurements\u001b[49m\u001b[43m)\u001b[49m\n",
      "File \u001b[0;32m/opt/tljh/user/lib/python3.9/site-packages/datacube/model/__init__.py:602\u001b[0m, in \u001b[0;36m<genexpr>\u001b[0;34m(.0)\u001b[0m\n\u001b[1;32m    599\u001b[0m     measurements \u001b[38;5;241m=\u001b[39m [measurements]\n\u001b[1;32m    601\u001b[0m mm \u001b[38;5;241m=\u001b[39m \u001b[38;5;28mself\u001b[39m\u001b[38;5;241m.\u001b[39m_resolve_aliases()\n\u001b[0;32m--> 602\u001b[0m \u001b[38;5;28;01mreturn\u001b[39;00m OrderedDict((m, \u001b[43mmm\u001b[49m\u001b[43m[\u001b[49m\u001b[43mm\u001b[49m\u001b[43m]\u001b[49m) \u001b[38;5;28;01mfor\u001b[39;00m m \u001b[38;5;129;01min\u001b[39;00m measurements)\n",
      "\u001b[0;31mKeyError\u001b[0m: 'surface_temperature_quality'"
     ]
    }
   ],
   "source": [
    "\n",
    "\n",
    "# Create a reusable query\n",
    "query = {\n",
    "    'y': lat_range,\n",
    "    'x': lon_range,\n",
    "    'time': time_range,\n",
    "    'measurements': measurements,\n",
    "    'resolution': (-10, 10),\n",
    "    'output_crs': 'epsg:6933',\n",
    "    'group_by':'solar_day'\n",
    "}\n",
    "\n",
    "# Load available data from Sentinel-2\n",
    "ds = load_ard(\n",
    "    dc=dc,\n",
    "    products=['ls7_c2l2_st_v2'],\n",
    "    mask_filters=[('opening', 3),('dilation', 3)],\n",
    "    **query,\n",
    ")\n",
    "\n",
    "print(ds)\n"
   ]
  },
  {
   "cell_type": "markdown",
   "id": "7da4ff41",
   "metadata": {},
   "source": [
    "### Subheading 1\n",
    "\n",
    "Use subheadings to break up steps within a single section."
   ]
  },
  {
   "cell_type": "code",
   "execution_count": null,
   "id": "7b209aea",
   "metadata": {},
   "outputs": [],
   "source": [
    "# Use code comments for low-level documentation of code\n",
    "b = 2"
   ]
  },
  {
   "cell_type": "markdown",
   "id": "98914fc3",
   "metadata": {},
   "source": [
    "## Heading 2\n",
    "\n",
    "Use markdown text for detailed, descriptive text explaining what the code below does and why it is needed.\n"
   ]
  },
  {
   "cell_type": "code",
   "execution_count": 1,
   "id": "9f55b31c",
   "metadata": {},
   "outputs": [],
   "source": [
    "# Use code comments for low-level documentation of code\n",
    "c = 3"
   ]
  },
  {
   "cell_type": "markdown",
   "id": "a1add747",
   "metadata": {},
   "source": [
    "## Additional information\n",
    "\n",
    "<b>License:</b> The code in this notebook is licensed under the Apache License, Version 2.0. Digital Earth Australia data is licensed under the Creative Commons by Attribution 4.0 license.\n",
    "\n",
    "<b>Contact:</b> If you need assistance, please post a question on the Open Data Cube Slack channel or on the GIS Stack Exchange using the open-data-cube tag (you can view previously asked questions here). If you would like to report an issue with this notebook, you can file one on Github.\n",
    "\n",
    "<b>Last modified:</b> May 2020\n",
    "\n",
    "<b>Compatible datacube version:</b>"
   ]
  },
  {
   "cell_type": "code",
   "execution_count": null,
   "id": "0437ddd5",
   "metadata": {},
   "outputs": [],
   "source": [
    "print(datacube.__version__)"
   ]
  },
  {
   "cell_type": "markdown",
   "id": "b9b4c2e9",
   "metadata": {},
   "source": [
    "## Tags \n",
    "Browse all available tags on the VA Data Cube User Guide's Tags Index "
   ]
  }
 ],
 "metadata": {
  "kernelspec": {
   "display_name": "Python 3 (ipykernel)",
   "language": "python",
   "name": "python3"
  },
  "language_info": {
   "codemirror_mode": {
    "name": "ipython",
    "version": 3
   },
   "file_extension": ".py",
   "mimetype": "text/x-python",
   "name": "python",
   "nbconvert_exporter": "python",
   "pygments_lexer": "ipython3",
   "version": "3.9.7"
  }
 },
 "nbformat": 4,
 "nbformat_minor": 5
}
