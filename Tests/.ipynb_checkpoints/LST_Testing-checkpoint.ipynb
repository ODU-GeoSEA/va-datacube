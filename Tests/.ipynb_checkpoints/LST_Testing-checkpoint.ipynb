{
 "cells": [
  {
   "cell_type": "markdown",
   "id": "b1a961b5",
   "metadata": {},
   "source": [
    "![data cube logo](https://static.wixstatic.com/media/8959d6_a13dc7ece5be4678af57c8f7c1667734~mv2.png/v1/fill/w_279,h_177,al_c,q_85,usm_0.66_1.00_0.01,enc_auto/VSDC_DataCubeSplash_6Partner_edited.png)\n",
    "# Land Surface Temperature Product Testing\n",
    "\n",
    " - Sign up to the VA Datacube (INSERT LINK) to run this notebook interactively from a browser\n",
    " - <b>Compatibility</b>: Notebook currently compatible with both the NCI and DEA Sandbox environments    \n",
    "\n",
    " - <b>Products used</b>:\n",
    "    \n",
    "    products....\n",
    " \n",
    " - <b>Special requirements:</b> An optional description of any special requirements, e.g. If running on the NCI, ensure that\n",
    "    module load otps is run prior to launching this notebook\n",
    " \n",
    " - <b>Prerequisites:</b> An <i>optional</i> list of any notebooks that should be run or content that should be understood\n",
    "    prior to launching this notebook\n",
    " \n",
    " - <b>Notebook Use:</b> If you would like to modify and save this notebook, please copy and paste it into your own folder on the data cube, here is how:\n",
    "\n",
    " \n"
   ]
  },
  {
   "cell_type": "markdown",
   "id": "26bba8c7",
   "metadata": {},
   "source": [
    "## Background\n",
    "\n",
    "\n",
    "An <i>optional</i> overview of the scientific, economic or environmental management issue or challenge being addressed by Digital Earth Australia. For Beginners_Guide or Frequently_Used_Code notebooks, this may include information about why the particular technique or approach is useful or required. If you need to cite a scientific paper or link to a website, use a persistent DOI link if possible and link in-text (e.g. Dhu et al. 2017)."
   ]
  },
  {
   "cell_type": "markdown",
   "id": "c3370de1",
   "metadata": {},
   "source": [
    "## Description\n",
    "\n",
    "A <i>compulsory</i> description of the notebook, including a brief overview of how Digital Earth Australia helps to address the problem set out above. It can be good to include a run-down of the tools/methods that will be demonstrated in the notebook:\n",
    "\n",
    "1. First we do this\n",
    "2. Then we do this\n",
    "3. Finally we do this"
   ]
  },
  {
   "cell_type": "markdown",
   "id": "6a10a543",
   "metadata": {},
   "source": [
    "---------------------------------------------------------------------------------------------------------------------------"
   ]
  },
  {
   "cell_type": "markdown",
   "id": "d1d817a9",
   "metadata": {},
   "source": [
    "## Getting started\n",
    "\n",
    "\n",
    "Provide any particular instructions that the user might need, e.g. To run this analysis, run all the cells in the notebook, starting with the \"Load packages\" cell."
   ]
  },
  {
   "cell_type": "markdown",
   "id": "5881476c",
   "metadata": {},
   "source": [
    "### Load packages\n",
    "Import Python packages that are used for the analysis.\n",
    "\n",
    "Use standard import commands; some are shown below. Begin with any iPython magic commands, followed by standard Python packages, then any additional functionality you need from the Scripts directory."
   ]
  },
  {
   "cell_type": "code",
   "execution_count": 12,
   "id": "1c851db3",
   "metadata": {},
   "outputs": [],
   "source": [
    "%matplotlib inline\n",
    "\n",
    "import datacube\n",
    "import numpy as np\n",
    "import xarray as xr\n",
    "import matplotlib.pyplot as plt\n",
    "\n",
    "from deafrica_tools.load_era5 import load_era5\n",
    "from deafrica_tools.datahandling import load_ard, mostcommon_crs\n",
    "from deafrica_tools.plotting import rgb"
   ]
  },
  {
   "cell_type": "markdown",
   "id": "36877232",
   "metadata": {},
   "source": [
    "### Connect to the datacube\n",
    "\n",
    "Connect to the datacube so we can access DEA data. The app parameter is a unique name for the analysis which is based on the notebook file name"
   ]
  },
  {
   "cell_type": "code",
   "execution_count": 13,
   "id": "fe072223",
   "metadata": {},
   "outputs": [],
   "source": [
    "dc = datacube.Datacube(app='LST_Testing')"
   ]
  },
  {
   "cell_type": "markdown",
   "id": "52e0ded8",
   "metadata": {},
   "source": [
    "### Analysis parameters\n",
    "An optional section to inform the user of any parameters they'll need to configure to run the notebook:\n",
    " - param_name_1: Simple description (e.g. example_value). Advice about appropriate values to choose for this parameter.\n",
    " - param_name_2: Simple description (e.g. example_value). Advice about appropriate values to choose for this parameter.\n",
    "\n",
    " "
   ]
  },
  {
   "cell_type": "code",
   "execution_count": 14,
   "id": "eb60c43b",
   "metadata": {},
   "outputs": [],
   "source": [
    "param_name_1 = 'example_value'\n",
    "param_name_2 = 'example_value'"
   ]
  },
  {
   "cell_type": "markdown",
   "id": "bd5d270a",
   "metadata": {},
   "source": [
    "## Heading 1\n",
    "\n",
    "Use headings to break up key steps/stages of the notebook.\n",
    "\n",
    "Use markdown text for detailed, descriptive text explaining what the code below does and why it is needed.\n",
    "\n",
    "<b>Note</b>: Use this markdown format (sparingly) to draw particular attention to an important point or caveat"
   ]
  },
  {
   "cell_type": "code",
   "execution_count": 15,
   "id": "1ff8da02",
   "metadata": {},
   "outputs": [
    {
     "data": {
      "text/html": [
       "<div>\n",
       "<style scoped>\n",
       "    .dataframe tbody tr th:only-of-type {\n",
       "        vertical-align: middle;\n",
       "    }\n",
       "\n",
       "    .dataframe tbody tr th {\n",
       "        vertical-align: top;\n",
       "    }\n",
       "\n",
       "    .dataframe thead th {\n",
       "        text-align: right;\n",
       "    }\n",
       "</style>\n",
       "<table border=\"1\" class=\"dataframe\">\n",
       "  <thead>\n",
       "    <tr style=\"text-align: right;\">\n",
       "      <th></th>\n",
       "      <th>description</th>\n",
       "    </tr>\n",
       "    <tr>\n",
       "      <th>name</th>\n",
       "      <th></th>\n",
       "    </tr>\n",
       "  </thead>\n",
       "  <tbody>\n",
       "    <tr>\n",
       "      <th>ls5_c2l2_st</th>\n",
       "      <td>USGS Landsat 5 Collection 2 Level-2 Surface Te...</td>\n",
       "    </tr>\n",
       "    <tr>\n",
       "      <th>ls5_c2l2_st_v2</th>\n",
       "      <td>USGS Landsat 5 Collection 2 Level-2 Surface Te...</td>\n",
       "    </tr>\n",
       "    <tr>\n",
       "      <th>ls7_c2l2_st</th>\n",
       "      <td>USGS Landsat 7 Collection 2 Level-2 Surface Te...</td>\n",
       "    </tr>\n",
       "    <tr>\n",
       "      <th>ls7_c2l2_st_v2</th>\n",
       "      <td>USGS Landsat 7 Collection 2 Level-2 Surface Te...</td>\n",
       "    </tr>\n",
       "    <tr>\n",
       "      <th>ls8_c2l2_st</th>\n",
       "      <td>USGS Landsat 8 Collection 2 Level-2 Surface Te...</td>\n",
       "    </tr>\n",
       "    <tr>\n",
       "      <th>ls8_c2l2_st_v2</th>\n",
       "      <td>USGS Landsat 8 Collection 2 Level-2 Surface Te...</td>\n",
       "    </tr>\n",
       "    <tr>\n",
       "      <th>ls9_c2l2_st</th>\n",
       "      <td>USGS Landsat 9 Collection 2 Level-2 Surface Te...</td>\n",
       "    </tr>\n",
       "    <tr>\n",
       "      <th>ls9_c2l2_st_v2</th>\n",
       "      <td>USGS Landsat 9 Collection 2 Level-2 Surface Te...</td>\n",
       "    </tr>\n",
       "  </tbody>\n",
       "</table>\n",
       "</div>"
      ],
      "text/plain": [
       "                                                      description\n",
       "name                                                             \n",
       "ls5_c2l2_st     USGS Landsat 5 Collection 2 Level-2 Surface Te...\n",
       "ls5_c2l2_st_v2  USGS Landsat 5 Collection 2 Level-2 Surface Te...\n",
       "ls7_c2l2_st     USGS Landsat 7 Collection 2 Level-2 Surface Te...\n",
       "ls7_c2l2_st_v2  USGS Landsat 7 Collection 2 Level-2 Surface Te...\n",
       "ls8_c2l2_st     USGS Landsat 8 Collection 2 Level-2 Surface Te...\n",
       "ls8_c2l2_st_v2  USGS Landsat 8 Collection 2 Level-2 Surface Te...\n",
       "ls9_c2l2_st     USGS Landsat 9 Collection 2 Level-2 Surface Te...\n",
       "ls9_c2l2_st_v2  USGS Landsat 9 Collection 2 Level-2 Surface Te..."
      ]
     },
     "execution_count": 15,
     "metadata": {},
     "output_type": "execute_result"
    }
   ],
   "source": [
    "# List Landsat products available in DE Africa\n",
    "dc_products = dc.list_products()\n",
    "display_columns = ['name', 'description']\n",
    "dc_products[dc_products.name.str.contains(\n",
    "    '_st').fillna(\n",
    "        False)][display_columns].set_index('name')"
   ]
  },
  {
   "cell_type": "code",
   "execution_count": 16,
   "id": "4c66d737-327a-4745-a321-c31fbc13f1ce",
   "metadata": {
    "tags": []
   },
   "outputs": [
    {
     "data": {
      "text/html": [
       "<div>\n",
       "<style scoped>\n",
       "    .dataframe tbody tr th:only-of-type {\n",
       "        vertical-align: middle;\n",
       "    }\n",
       "\n",
       "    .dataframe tbody tr th {\n",
       "        vertical-align: top;\n",
       "    }\n",
       "\n",
       "    .dataframe thead th {\n",
       "        text-align: right;\n",
       "    }\n",
       "</style>\n",
       "<table border=\"1\" class=\"dataframe\">\n",
       "  <thead>\n",
       "    <tr style=\"text-align: right;\">\n",
       "      <th></th>\n",
       "      <th>name</th>\n",
       "      <th>dtype</th>\n",
       "      <th>units</th>\n",
       "      <th>nodata</th>\n",
       "      <th>aliases</th>\n",
       "      <th>flags_definition</th>\n",
       "    </tr>\n",
       "    <tr>\n",
       "      <th>measurement</th>\n",
       "      <th></th>\n",
       "      <th></th>\n",
       "      <th></th>\n",
       "      <th></th>\n",
       "      <th></th>\n",
       "      <th></th>\n",
       "    </tr>\n",
       "  </thead>\n",
       "  <tbody>\n",
       "    <tr>\n",
       "      <th>lwir11</th>\n",
       "      <td>lwir11</td>\n",
       "      <td>uint16</td>\n",
       "      <td>Kelvin</td>\n",
       "      <td>0</td>\n",
       "      <td>[lwir, band_6, st, surface_temperature]</td>\n",
       "      <td>NaN</td>\n",
       "    </tr>\n",
       "    <tr>\n",
       "      <th>TRAD</th>\n",
       "      <td>TRAD</td>\n",
       "      <td>int16</td>\n",
       "      <td>W/(m2.sr.μm)</td>\n",
       "      <td>-9999</td>\n",
       "      <td>[trad, ST_TRAD, thermal_radiance]</td>\n",
       "      <td>NaN</td>\n",
       "    </tr>\n",
       "    <tr>\n",
       "      <th>URAD</th>\n",
       "      <td>URAD</td>\n",
       "      <td>int16</td>\n",
       "      <td>W/(m2.sr.μm)</td>\n",
       "      <td>-9999</td>\n",
       "      <td>[urad, ST_URAD, upwell_radiance]</td>\n",
       "      <td>NaN</td>\n",
       "    </tr>\n",
       "    <tr>\n",
       "      <th>DRAD</th>\n",
       "      <td>DRAD</td>\n",
       "      <td>int16</td>\n",
       "      <td>W/(m2.sr.μm)</td>\n",
       "      <td>-9999</td>\n",
       "      <td>[drad, ST_DRAD, downwell_radiance]</td>\n",
       "      <td>NaN</td>\n",
       "    </tr>\n",
       "    <tr>\n",
       "      <th>ATRAN</th>\n",
       "      <td>ATRAN</td>\n",
       "      <td>int16</td>\n",
       "      <td>1</td>\n",
       "      <td>-9999</td>\n",
       "      <td>[atran, ST_ATRAN, atmospheric_transmittance]</td>\n",
       "      <td>NaN</td>\n",
       "    </tr>\n",
       "    <tr>\n",
       "      <th>EMIS</th>\n",
       "      <td>EMIS</td>\n",
       "      <td>int16</td>\n",
       "      <td>1</td>\n",
       "      <td>-9999</td>\n",
       "      <td>[emis, ST_EMIS, emissivity]</td>\n",
       "      <td>NaN</td>\n",
       "    </tr>\n",
       "    <tr>\n",
       "      <th>EMSD</th>\n",
       "      <td>EMSD</td>\n",
       "      <td>int16</td>\n",
       "      <td>1</td>\n",
       "      <td>-9999</td>\n",
       "      <td>[emsd, ST_EMSD, emissivity_stddev]</td>\n",
       "      <td>NaN</td>\n",
       "    </tr>\n",
       "    <tr>\n",
       "      <th>CDIST</th>\n",
       "      <td>CDIST</td>\n",
       "      <td>int16</td>\n",
       "      <td>Kilometers</td>\n",
       "      <td>-9999</td>\n",
       "      <td>[cdist, ST_CDIST, cloud_distance]</td>\n",
       "      <td>NaN</td>\n",
       "    </tr>\n",
       "    <tr>\n",
       "      <th>qa</th>\n",
       "      <td>qa</td>\n",
       "      <td>int16</td>\n",
       "      <td>Kelvin</td>\n",
       "      <td>-9999</td>\n",
       "      <td>[st_qa, surface_temperature_quality]</td>\n",
       "      <td>NaN</td>\n",
       "    </tr>\n",
       "    <tr>\n",
       "      <th>qa_pixel</th>\n",
       "      <td>qa_pixel</td>\n",
       "      <td>uint16</td>\n",
       "      <td>bit_index</td>\n",
       "      <td>1</td>\n",
       "      <td>[pq, QA_PIXEL, pixel_quality]</td>\n",
       "      <td>{'snow': {'bits': 5, 'values': {'0': 'not_high...</td>\n",
       "    </tr>\n",
       "    <tr>\n",
       "      <th>qa_radsat</th>\n",
       "      <td>qa_radsat</td>\n",
       "      <td>uint16</td>\n",
       "      <td>bit_index</td>\n",
       "      <td>0</td>\n",
       "      <td>[radsat, QA_RADSAT, radiometric_saturation]</td>\n",
       "      <td>{'nir_saturation': {'bits': 4, 'values': {'0':...</td>\n",
       "    </tr>\n",
       "  </tbody>\n",
       "</table>\n",
       "</div>"
      ],
      "text/plain": [
       "                  name   dtype         units  nodata  \\\n",
       "measurement                                            \n",
       "lwir11          lwir11  uint16        Kelvin       0   \n",
       "TRAD              TRAD   int16  W/(m2.sr.μm)   -9999   \n",
       "URAD              URAD   int16  W/(m2.sr.μm)   -9999   \n",
       "DRAD              DRAD   int16  W/(m2.sr.μm)   -9999   \n",
       "ATRAN            ATRAN   int16             1   -9999   \n",
       "EMIS              EMIS   int16             1   -9999   \n",
       "EMSD              EMSD   int16             1   -9999   \n",
       "CDIST            CDIST   int16    Kilometers   -9999   \n",
       "qa                  qa   int16        Kelvin   -9999   \n",
       "qa_pixel      qa_pixel  uint16     bit_index       1   \n",
       "qa_radsat    qa_radsat  uint16     bit_index       0   \n",
       "\n",
       "                                                  aliases  \\\n",
       "measurement                                                 \n",
       "lwir11            [lwir, band_6, st, surface_temperature]   \n",
       "TRAD                    [trad, ST_TRAD, thermal_radiance]   \n",
       "URAD                     [urad, ST_URAD, upwell_radiance]   \n",
       "DRAD                   [drad, ST_DRAD, downwell_radiance]   \n",
       "ATRAN        [atran, ST_ATRAN, atmospheric_transmittance]   \n",
       "EMIS                          [emis, ST_EMIS, emissivity]   \n",
       "EMSD                   [emsd, ST_EMSD, emissivity_stddev]   \n",
       "CDIST                   [cdist, ST_CDIST, cloud_distance]   \n",
       "qa                   [st_qa, surface_temperature_quality]   \n",
       "qa_pixel                    [pq, QA_PIXEL, pixel_quality]   \n",
       "qa_radsat     [radsat, QA_RADSAT, radiometric_saturation]   \n",
       "\n",
       "                                              flags_definition  \n",
       "measurement                                                     \n",
       "lwir11                                                     NaN  \n",
       "TRAD                                                       NaN  \n",
       "URAD                                                       NaN  \n",
       "DRAD                                                       NaN  \n",
       "ATRAN                                                      NaN  \n",
       "EMIS                                                       NaN  \n",
       "EMSD                                                       NaN  \n",
       "CDIST                                                      NaN  \n",
       "qa                                                         NaN  \n",
       "qa_pixel     {'snow': {'bits': 5, 'values': {'0': 'not_high...  \n",
       "qa_radsat    {'nir_saturation': {'bits': 4, 'values': {'0':...  "
      ]
     },
     "execution_count": 16,
     "metadata": {},
     "output_type": "execute_result"
    }
   ],
   "source": [
    "#List measurements\n",
    "dc_measurements = dc.list_measurements()\n",
    "dc_measurements.loc['ls9_c2l2_st_v2']"
   ]
  },
  {
   "cell_type": "code",
   "execution_count": 17,
   "id": "a5486e80-a9bd-4ddb-be6c-2ff849847d0c",
   "metadata": {
    "tags": []
   },
   "outputs": [],
   "source": [
    "# Define the analysis region (Lat-Lon box)\n",
    "lat = 37.208168 \n",
    "lon = -80.443249 \n",
    "\n",
    "#This is going to control how large the study area is. \n",
    "lon_buffer = 0.003\n",
    "lat_buffer = 0.003\n",
    "\n",
    "# Define the time window\n",
    "time_range = ('2021-01', '2022-12')\n",
    "\n",
    "# Combine central lat,lon with buffer to get area of interest\n",
    "lat_range = (lat-lat_buffer, lat+lat_buffer)\n",
    "lon_range = (lon-lon_buffer, lon+lon_buffer)\n",
    "\n",
    "# Load land surface temperature and quality assessment\n",
    "# We can use the alias names to call the bands\n",
    "measurements = ['lwir11', 'qa_pixel']\n",
    "#measurements = ['thermal_radiance']\n"
   ]
  },
  {
   "cell_type": "code",
   "execution_count": 20,
   "id": "308bdec4-d219-453d-bb59-6aa4c27c8940",
   "metadata": {
    "tags": []
   },
   "outputs": [
    {
     "name": "stderr",
     "output_type": "stream",
     "text": [
      "Error opening source dataset: s3://usgs-landsat/collection02/level-2/standard/oli-tirs/2021/016/034/LC09_L2SP_016034_20211102_20230507_02_T2/LC09_L2SP_016034_20211102_20230507_02_T2_ST_B10.TIF\n"
     ]
    },
    {
     "ename": "RasterioIOError",
     "evalue": "'/vsis3/usgs-landsat/collection02/level-2/standard/oli-tirs/2021/016/034/LC09_L2SP_016034_20211102_20230507_02_T2/LC09_L2SP_016034_20211102_20230507_02_T2_ST_B10.TIF' does not exist in the file system, and is not recognized as a supported dataset name.",
     "output_type": "error",
     "traceback": [
      "\u001b[0;31m---------------------------------------------------------------------------\u001b[0m",
      "\u001b[0;31mCPLE_OpenFailedError\u001b[0m                      Traceback (most recent call last)",
      "File \u001b[0;32mrasterio/_base.pyx:310\u001b[0m, in \u001b[0;36mrasterio._base.DatasetBase.__init__\u001b[0;34m()\u001b[0m\n",
      "File \u001b[0;32mrasterio/_base.pyx:221\u001b[0m, in \u001b[0;36mrasterio._base.open_dataset\u001b[0;34m()\u001b[0m\n",
      "File \u001b[0;32mrasterio/_err.pyx:221\u001b[0m, in \u001b[0;36mrasterio._err.exc_wrap_pointer\u001b[0;34m()\u001b[0m\n",
      "\u001b[0;31mCPLE_OpenFailedError\u001b[0m: '/vsis3/usgs-landsat/collection02/level-2/standard/oli-tirs/2021/016/034/LC09_L2SP_016034_20211102_20230507_02_T2/LC09_L2SP_016034_20211102_20230507_02_T2_ST_B10.TIF' does not exist in the file system, and is not recognized as a supported dataset name.",
      "\nDuring handling of the above exception, another exception occurred:\n",
      "\u001b[0;31mRasterioIOError\u001b[0m                           Traceback (most recent call last)",
      "Cell \u001b[0;32mIn[20], line 13\u001b[0m\n\u001b[1;32m      2\u001b[0m query \u001b[38;5;241m=\u001b[39m {\n\u001b[1;32m      3\u001b[0m     \u001b[38;5;124m'\u001b[39m\u001b[38;5;124my\u001b[39m\u001b[38;5;124m'\u001b[39m: lat_range,\n\u001b[1;32m      4\u001b[0m     \u001b[38;5;124m'\u001b[39m\u001b[38;5;124mx\u001b[39m\u001b[38;5;124m'\u001b[39m: lon_range,\n\u001b[0;32m   (...)\u001b[0m\n\u001b[1;32m      9\u001b[0m     \u001b[38;5;124m'\u001b[39m\u001b[38;5;124mgroup_by\u001b[39m\u001b[38;5;124m'\u001b[39m:\u001b[38;5;124m'\u001b[39m\u001b[38;5;124msolar_day\u001b[39m\u001b[38;5;124m'\u001b[39m\n\u001b[1;32m     10\u001b[0m }\n\u001b[1;32m     12\u001b[0m \u001b[38;5;66;03m# Load available data from Sentinel-2\u001b[39;00m\n\u001b[0;32m---> 13\u001b[0m ds \u001b[38;5;241m=\u001b[39m \u001b[43mdc\u001b[49m\u001b[38;5;241;43m.\u001b[39;49m\u001b[43mload\u001b[49m\u001b[43m(\u001b[49m\n\u001b[1;32m     14\u001b[0m \u001b[43m    \u001b[49m\u001b[43mproduct\u001b[49m\u001b[38;5;241;43m=\u001b[39;49m\u001b[43m[\u001b[49m\u001b[38;5;124;43m'\u001b[39;49m\u001b[38;5;124;43mls9_c2l2_st_v2\u001b[39;49m\u001b[38;5;124;43m'\u001b[39;49m\u001b[43m]\u001b[49m\u001b[43m,\u001b[49m\n\u001b[1;32m     15\u001b[0m \u001b[43m    \u001b[49m\u001b[38;5;241;43m*\u001b[39;49m\u001b[38;5;241;43m*\u001b[39;49m\u001b[43mquery\u001b[49m\u001b[43m,\u001b[49m\n\u001b[1;32m     16\u001b[0m \u001b[43m)\u001b[49m\n\u001b[1;32m     18\u001b[0m \u001b[38;5;28mprint\u001b[39m(ds)\n",
      "File \u001b[0;32m/opt/tljh/user/lib/python3.9/site-packages/datacube/api/core.py:448\u001b[0m, in \u001b[0;36mDatacube.load\u001b[0;34m(self, product, measurements, output_crs, resolution, resampling, skip_broken_datasets, dask_chunks, like, fuse_func, align, datasets, dataset_predicate, progress_cbk, patch_url, **query)\u001b[0m\n\u001b[1;32m    444\u001b[0m measurement_dicts \u001b[38;5;241m=\u001b[39m datacube_product\u001b[38;5;241m.\u001b[39mlookup_measurements(measurements)\n\u001b[1;32m    446\u001b[0m \u001b[38;5;66;03m# `extra_dims` put last for backwards compability, but should really be the second position\u001b[39;00m\n\u001b[1;32m    447\u001b[0m \u001b[38;5;66;03m# betwween `grouped` and `geobox`\u001b[39;00m\n\u001b[0;32m--> 448\u001b[0m result \u001b[38;5;241m=\u001b[39m \u001b[38;5;28;43mself\u001b[39;49m\u001b[38;5;241;43m.\u001b[39;49m\u001b[43mload_data\u001b[49m\u001b[43m(\u001b[49m\u001b[43mgrouped\u001b[49m\u001b[43m,\u001b[49m\u001b[43m \u001b[49m\u001b[43mgeobox\u001b[49m\u001b[43m,\u001b[49m\n\u001b[1;32m    449\u001b[0m \u001b[43m                        \u001b[49m\u001b[43mmeasurement_dicts\u001b[49m\u001b[43m,\u001b[49m\n\u001b[1;32m    450\u001b[0m \u001b[43m                        \u001b[49m\u001b[43mresampling\u001b[49m\u001b[38;5;241;43m=\u001b[39;49m\u001b[43mresampling\u001b[49m\u001b[43m,\u001b[49m\n\u001b[1;32m    451\u001b[0m \u001b[43m                        \u001b[49m\u001b[43mfuse_func\u001b[49m\u001b[38;5;241;43m=\u001b[39;49m\u001b[43mfuse_func\u001b[49m\u001b[43m,\u001b[49m\n\u001b[1;32m    452\u001b[0m \u001b[43m                        \u001b[49m\u001b[43mdask_chunks\u001b[49m\u001b[38;5;241;43m=\u001b[39;49m\u001b[43mdask_chunks\u001b[49m\u001b[43m,\u001b[49m\n\u001b[1;32m    453\u001b[0m \u001b[43m                        \u001b[49m\u001b[43mskip_broken_datasets\u001b[49m\u001b[38;5;241;43m=\u001b[39;49m\u001b[43mskip_broken_datasets\u001b[49m\u001b[43m,\u001b[49m\n\u001b[1;32m    454\u001b[0m \u001b[43m                        \u001b[49m\u001b[43mprogress_cbk\u001b[49m\u001b[38;5;241;43m=\u001b[39;49m\u001b[43mprogress_cbk\u001b[49m\u001b[43m,\u001b[49m\n\u001b[1;32m    455\u001b[0m \u001b[43m                        \u001b[49m\u001b[43mextra_dims\u001b[49m\u001b[38;5;241;43m=\u001b[39;49m\u001b[43mextra_dims\u001b[49m\u001b[43m,\u001b[49m\n\u001b[1;32m    456\u001b[0m \u001b[43m                        \u001b[49m\u001b[43mpatch_url\u001b[49m\u001b[38;5;241;43m=\u001b[39;49m\u001b[43mpatch_url\u001b[49m\u001b[43m)\u001b[49m\n\u001b[1;32m    458\u001b[0m \u001b[38;5;28;01mreturn\u001b[39;00m result\n",
      "File \u001b[0;32m/opt/tljh/user/lib/python3.9/site-packages/datacube/api/core.py:806\u001b[0m, in \u001b[0;36mDatacube.load_data\u001b[0;34m(sources, geobox, measurements, resampling, fuse_func, dask_chunks, skip_broken_datasets, progress_cbk, extra_dims, patch_url, **extra)\u001b[0m\n\u001b[1;32m    801\u001b[0m     \u001b[38;5;28;01mreturn\u001b[39;00m Datacube\u001b[38;5;241m.\u001b[39m_dask_load(sources, geobox, measurements, dask_chunks,\n\u001b[1;32m    802\u001b[0m                                skip_broken_datasets\u001b[38;5;241m=\u001b[39mskip_broken_datasets,\n\u001b[1;32m    803\u001b[0m                                extra_dims\u001b[38;5;241m=\u001b[39mextra_dims,\n\u001b[1;32m    804\u001b[0m                                patch_url\u001b[38;5;241m=\u001b[39mpatch_url)\n\u001b[1;32m    805\u001b[0m \u001b[38;5;28;01melse\u001b[39;00m:\n\u001b[0;32m--> 806\u001b[0m     \u001b[38;5;28;01mreturn\u001b[39;00m \u001b[43mDatacube\u001b[49m\u001b[38;5;241;43m.\u001b[39;49m\u001b[43m_xr_load\u001b[49m\u001b[43m(\u001b[49m\u001b[43msources\u001b[49m\u001b[43m,\u001b[49m\u001b[43m \u001b[49m\u001b[43mgeobox\u001b[49m\u001b[43m,\u001b[49m\u001b[43m \u001b[49m\u001b[43mmeasurements\u001b[49m\u001b[43m,\u001b[49m\n\u001b[1;32m    807\u001b[0m \u001b[43m                             \u001b[49m\u001b[43mskip_broken_datasets\u001b[49m\u001b[38;5;241;43m=\u001b[39;49m\u001b[43mskip_broken_datasets\u001b[49m\u001b[43m,\u001b[49m\n\u001b[1;32m    808\u001b[0m \u001b[43m                             \u001b[49m\u001b[43mprogress_cbk\u001b[49m\u001b[38;5;241;43m=\u001b[39;49m\u001b[43mprogress_cbk\u001b[49m\u001b[43m,\u001b[49m\n\u001b[1;32m    809\u001b[0m \u001b[43m                             \u001b[49m\u001b[43mextra_dims\u001b[49m\u001b[38;5;241;43m=\u001b[39;49m\u001b[43mextra_dims\u001b[49m\u001b[43m,\u001b[49m\n\u001b[1;32m    810\u001b[0m \u001b[43m                             \u001b[49m\u001b[43mpatch_url\u001b[49m\u001b[38;5;241;43m=\u001b[39;49m\u001b[43mpatch_url\u001b[49m\u001b[43m)\u001b[49m\n",
      "File \u001b[0;32m/opt/tljh/user/lib/python3.9/site-packages/datacube/api/core.py:734\u001b[0m, in \u001b[0;36mDatacube._xr_load\u001b[0;34m(sources, geobox, measurements, skip_broken_datasets, progress_cbk, extra_dims, patch_url)\u001b[0m\n\u001b[1;32m    732\u001b[0m data_slice \u001b[38;5;241m=\u001b[39m data[m\u001b[38;5;241m.\u001b[39mname]\u001b[38;5;241m.\u001b[39mvalues[index]\n\u001b[1;32m    733\u001b[0m \u001b[38;5;28;01mtry\u001b[39;00m:\n\u001b[0;32m--> 734\u001b[0m     \u001b[43m_fuse_measurement\u001b[49m\u001b[43m(\u001b[49m\u001b[43mdata_slice\u001b[49m\u001b[43m,\u001b[49m\u001b[43m \u001b[49m\u001b[43mdatasets\u001b[49m\u001b[43m,\u001b[49m\u001b[43m \u001b[49m\u001b[43mgeobox\u001b[49m\u001b[43m,\u001b[49m\u001b[43m \u001b[49m\u001b[43mm\u001b[49m\u001b[43m,\u001b[49m\n\u001b[1;32m    735\u001b[0m \u001b[43m                      \u001b[49m\u001b[43mskip_broken_datasets\u001b[49m\u001b[38;5;241;43m=\u001b[39;49m\u001b[43mskip_broken_datasets\u001b[49m\u001b[43m,\u001b[49m\n\u001b[1;32m    736\u001b[0m \u001b[43m                      \u001b[49m\u001b[43mprogress_cbk\u001b[49m\u001b[38;5;241;43m=\u001b[39;49m\u001b[43m_cbk\u001b[49m\u001b[43m,\u001b[49m\u001b[43m \u001b[49m\u001b[43mextra_dim_index\u001b[49m\u001b[38;5;241;43m=\u001b[39;49m\u001b[43mextra_dim_index\u001b[49m\u001b[43m,\u001b[49m\n\u001b[1;32m    737\u001b[0m \u001b[43m                      \u001b[49m\u001b[43mpatch_url\u001b[49m\u001b[38;5;241;43m=\u001b[39;49m\u001b[43mpatch_url\u001b[49m\u001b[43m)\u001b[49m\n\u001b[1;32m    738\u001b[0m \u001b[38;5;28;01mexcept\u001b[39;00m (TerminateCurrentLoad, \u001b[38;5;167;01mKeyboardInterrupt\u001b[39;00m):\n\u001b[1;32m    739\u001b[0m     data\u001b[38;5;241m.\u001b[39mattrs[\u001b[38;5;124m'\u001b[39m\u001b[38;5;124mdc_partial_load\u001b[39m\u001b[38;5;124m'\u001b[39m] \u001b[38;5;241m=\u001b[39m \u001b[38;5;28;01mTrue\u001b[39;00m\n",
      "File \u001b[0;32m/opt/tljh/user/lib/python3.9/site-packages/datacube/api/core.py:957\u001b[0m, in \u001b[0;36m_fuse_measurement\u001b[0;34m(dest, datasets, geobox, measurement, skip_broken_datasets, progress_cbk, extra_dim_index, patch_url)\u001b[0m\n\u001b[1;32m    954\u001b[0m     \u001b[38;5;28;01melse\u001b[39;00m:\n\u001b[1;32m    955\u001b[0m         srcs\u001b[38;5;241m.\u001b[39mappend(src)\n\u001b[0;32m--> 957\u001b[0m \u001b[43mreproject_and_fuse\u001b[49m\u001b[43m(\u001b[49m\u001b[43msrcs\u001b[49m\u001b[43m,\u001b[49m\n\u001b[1;32m    958\u001b[0m \u001b[43m                   \u001b[49m\u001b[43mdest\u001b[49m\u001b[43m,\u001b[49m\n\u001b[1;32m    959\u001b[0m \u001b[43m                   \u001b[49m\u001b[43mgeobox\u001b[49m\u001b[43m,\u001b[49m\n\u001b[1;32m    960\u001b[0m \u001b[43m                   \u001b[49m\u001b[43mdest\u001b[49m\u001b[38;5;241;43m.\u001b[39;49m\u001b[43mdtype\u001b[49m\u001b[38;5;241;43m.\u001b[39;49m\u001b[43mtype\u001b[49m\u001b[43m(\u001b[49m\u001b[43mmeasurement\u001b[49m\u001b[38;5;241;43m.\u001b[39;49m\u001b[43mnodata\u001b[49m\u001b[43m)\u001b[49m\u001b[43m,\u001b[49m\n\u001b[1;32m    961\u001b[0m \u001b[43m                   \u001b[49m\u001b[43mresampling\u001b[49m\u001b[38;5;241;43m=\u001b[39;49m\u001b[43mmeasurement\u001b[49m\u001b[38;5;241;43m.\u001b[39;49m\u001b[43mget\u001b[49m\u001b[43m(\u001b[49m\u001b[38;5;124;43m'\u001b[39;49m\u001b[38;5;124;43mresampling_method\u001b[39;49m\u001b[38;5;124;43m'\u001b[39;49m\u001b[43m,\u001b[49m\u001b[43m \u001b[49m\u001b[38;5;124;43m'\u001b[39;49m\u001b[38;5;124;43mnearest\u001b[39;49m\u001b[38;5;124;43m'\u001b[39;49m\u001b[43m)\u001b[49m\u001b[43m,\u001b[49m\n\u001b[1;32m    962\u001b[0m \u001b[43m                   \u001b[49m\u001b[43mfuse_func\u001b[49m\u001b[38;5;241;43m=\u001b[39;49m\u001b[43mmeasurement\u001b[49m\u001b[38;5;241;43m.\u001b[39;49m\u001b[43mget\u001b[49m\u001b[43m(\u001b[49m\u001b[38;5;124;43m'\u001b[39;49m\u001b[38;5;124;43mfuser\u001b[39;49m\u001b[38;5;124;43m'\u001b[39;49m\u001b[43m,\u001b[49m\u001b[43m \u001b[49m\u001b[38;5;28;43;01mNone\u001b[39;49;00m\u001b[43m)\u001b[49m\u001b[43m,\u001b[49m\n\u001b[1;32m    963\u001b[0m \u001b[43m                   \u001b[49m\u001b[43mskip_broken_datasets\u001b[49m\u001b[38;5;241;43m=\u001b[39;49m\u001b[43mskip_broken_datasets\u001b[49m\u001b[43m,\u001b[49m\n\u001b[1;32m    964\u001b[0m \u001b[43m                   \u001b[49m\u001b[43mprogress_cbk\u001b[49m\u001b[38;5;241;43m=\u001b[39;49m\u001b[43mprogress_cbk\u001b[49m\u001b[43m,\u001b[49m\n\u001b[1;32m    965\u001b[0m \u001b[43m                   \u001b[49m\u001b[43mextra_dim_index\u001b[49m\u001b[38;5;241;43m=\u001b[39;49m\u001b[43mextra_dim_index\u001b[49m\u001b[43m)\u001b[49m\n",
      "File \u001b[0;32m/opt/tljh/user/lib/python3.9/site-packages/datacube/storage/_load.py:77\u001b[0m, in \u001b[0;36mreproject_and_fuse\u001b[0;34m(datasources, destination, dst_gbox, dst_nodata, resampling, fuse_func, skip_broken_datasets, progress_cbk, extra_dim_index)\u001b[0m\n\u001b[1;32m     75\u001b[0m \u001b[38;5;28;01melif\u001b[39;00m \u001b[38;5;28mlen\u001b[39m(datasources) \u001b[38;5;241m==\u001b[39m \u001b[38;5;241m1\u001b[39m:\n\u001b[1;32m     76\u001b[0m     \u001b[38;5;28;01mwith\u001b[39;00m ignore_exceptions_if(skip_broken_datasets):\n\u001b[0;32m---> 77\u001b[0m         \u001b[38;5;28;01mwith\u001b[39;00m datasources[\u001b[38;5;241m0\u001b[39m]\u001b[38;5;241m.\u001b[39mopen() \u001b[38;5;28;01mas\u001b[39;00m rdr:\n\u001b[1;32m     78\u001b[0m             read_time_slice(rdr, destination, dst_gbox, resampling, dst_nodata, extra_dim_index)\n\u001b[1;32m     80\u001b[0m     \u001b[38;5;28;01mif\u001b[39;00m progress_cbk:\n",
      "File \u001b[0;32m/opt/tljh/user/lib/python3.9/contextlib.py:119\u001b[0m, in \u001b[0;36m_GeneratorContextManager.__enter__\u001b[0;34m(self)\u001b[0m\n\u001b[1;32m    117\u001b[0m \u001b[38;5;28;01mdel\u001b[39;00m \u001b[38;5;28mself\u001b[39m\u001b[38;5;241m.\u001b[39margs, \u001b[38;5;28mself\u001b[39m\u001b[38;5;241m.\u001b[39mkwds, \u001b[38;5;28mself\u001b[39m\u001b[38;5;241m.\u001b[39mfunc\n\u001b[1;32m    118\u001b[0m \u001b[38;5;28;01mtry\u001b[39;00m:\n\u001b[0;32m--> 119\u001b[0m     \u001b[38;5;28;01mreturn\u001b[39;00m \u001b[38;5;28;43mnext\u001b[39;49m\u001b[43m(\u001b[49m\u001b[38;5;28;43mself\u001b[39;49m\u001b[38;5;241;43m.\u001b[39;49m\u001b[43mgen\u001b[49m\u001b[43m)\u001b[49m\n\u001b[1;32m    120\u001b[0m \u001b[38;5;28;01mexcept\u001b[39;00m \u001b[38;5;167;01mStopIteration\u001b[39;00m:\n\u001b[1;32m    121\u001b[0m     \u001b[38;5;28;01mraise\u001b[39;00m \u001b[38;5;167;01mRuntimeError\u001b[39;00m(\u001b[38;5;124m\"\u001b[39m\u001b[38;5;124mgenerator didn\u001b[39m\u001b[38;5;124m'\u001b[39m\u001b[38;5;124mt yield\u001b[39m\u001b[38;5;124m\"\u001b[39m) \u001b[38;5;28;01mfrom\u001b[39;00m \u001b[38;5;28;01mNone\u001b[39;00m\n",
      "File \u001b[0;32m/opt/tljh/user/lib/python3.9/site-packages/datacube/storage/_rio.py:146\u001b[0m, in \u001b[0;36mRasterioDataSource.open\u001b[0;34m(self)\u001b[0m\n\u001b[1;32m    144\u001b[0m \u001b[38;5;28;01mexcept\u001b[39;00m \u001b[38;5;167;01mException\u001b[39;00m \u001b[38;5;28;01mas\u001b[39;00m e:\n\u001b[1;32m    145\u001b[0m     _LOG\u001b[38;5;241m.\u001b[39merror(\u001b[38;5;124m\"\u001b[39m\u001b[38;5;124mError opening source dataset: \u001b[39m\u001b[38;5;132;01m%s\u001b[39;00m\u001b[38;5;124m\"\u001b[39m, \u001b[38;5;28mself\u001b[39m\u001b[38;5;241m.\u001b[39mfilename)\n\u001b[0;32m--> 146\u001b[0m     \u001b[38;5;28;01mraise\u001b[39;00m e\n\u001b[1;32m    147\u001b[0m \u001b[38;5;28;01mfinally\u001b[39;00m:\n\u001b[1;32m    148\u001b[0m     \u001b[38;5;28;01mif\u001b[39;00m locked:\n",
      "File \u001b[0;32m/opt/tljh/user/lib/python3.9/site-packages/datacube/storage/_rio.py:117\u001b[0m, in \u001b[0;36mRasterioDataSource.open\u001b[0;34m(self)\u001b[0m\n\u001b[1;32m    115\u001b[0m \u001b[38;5;28;01mtry\u001b[39;00m:\n\u001b[1;32m    116\u001b[0m     _LOG\u001b[38;5;241m.\u001b[39mdebug(\u001b[38;5;124m\"\u001b[39m\u001b[38;5;124mopening \u001b[39m\u001b[38;5;132;01m%s\u001b[39;00m\u001b[38;5;124m\"\u001b[39m, \u001b[38;5;28mself\u001b[39m\u001b[38;5;241m.\u001b[39mfilename)\n\u001b[0;32m--> 117\u001b[0m     \u001b[38;5;28;01mwith\u001b[39;00m \u001b[43mrasterio\u001b[49m\u001b[38;5;241;43m.\u001b[39;49m\u001b[43mopen\u001b[49m\u001b[43m(\u001b[49m\u001b[38;5;28;43mstr\u001b[39;49m\u001b[43m(\u001b[49m\u001b[38;5;28;43mself\u001b[39;49m\u001b[38;5;241;43m.\u001b[39;49m\u001b[43mfilename\u001b[49m\u001b[43m)\u001b[49m\u001b[43m,\u001b[49m\u001b[43m \u001b[49m\u001b[43msharing\u001b[49m\u001b[38;5;241;43m=\u001b[39;49m\u001b[38;5;28;43;01mFalse\u001b[39;49;00m\u001b[43m)\u001b[49m \u001b[38;5;28;01mas\u001b[39;00m src:\n\u001b[1;32m    118\u001b[0m         override \u001b[38;5;241m=\u001b[39m \u001b[38;5;28;01mFalse\u001b[39;00m\n\u001b[1;32m    120\u001b[0m         transform \u001b[38;5;241m=\u001b[39m src\u001b[38;5;241m.\u001b[39mtransform\n",
      "File \u001b[0;32m/opt/tljh/user/lib/python3.9/site-packages/rasterio/env.py:451\u001b[0m, in \u001b[0;36mensure_env_with_credentials.<locals>.wrapper\u001b[0;34m(*args, **kwds)\u001b[0m\n\u001b[1;32m    448\u001b[0m     session \u001b[38;5;241m=\u001b[39m DummySession()\n\u001b[1;32m    450\u001b[0m \u001b[38;5;28;01mwith\u001b[39;00m env_ctor(session\u001b[38;5;241m=\u001b[39msession):\n\u001b[0;32m--> 451\u001b[0m     \u001b[38;5;28;01mreturn\u001b[39;00m \u001b[43mf\u001b[49m\u001b[43m(\u001b[49m\u001b[38;5;241;43m*\u001b[39;49m\u001b[43margs\u001b[49m\u001b[43m,\u001b[49m\u001b[43m \u001b[49m\u001b[38;5;241;43m*\u001b[39;49m\u001b[38;5;241;43m*\u001b[39;49m\u001b[43mkwds\u001b[49m\u001b[43m)\u001b[49m\n",
      "File \u001b[0;32m/opt/tljh/user/lib/python3.9/site-packages/rasterio/__init__.py:304\u001b[0m, in \u001b[0;36mopen\u001b[0;34m(fp, mode, driver, width, height, count, crs, transform, dtype, nodata, sharing, **kwargs)\u001b[0m\n\u001b[1;32m    301\u001b[0m path \u001b[38;5;241m=\u001b[39m _parse_path(raw_dataset_path)\n\u001b[1;32m    303\u001b[0m \u001b[38;5;28;01mif\u001b[39;00m mode \u001b[38;5;241m==\u001b[39m \u001b[38;5;124m\"\u001b[39m\u001b[38;5;124mr\u001b[39m\u001b[38;5;124m\"\u001b[39m:\n\u001b[0;32m--> 304\u001b[0m     dataset \u001b[38;5;241m=\u001b[39m \u001b[43mDatasetReader\u001b[49m\u001b[43m(\u001b[49m\u001b[43mpath\u001b[49m\u001b[43m,\u001b[49m\u001b[43m \u001b[49m\u001b[43mdriver\u001b[49m\u001b[38;5;241;43m=\u001b[39;49m\u001b[43mdriver\u001b[49m\u001b[43m,\u001b[49m\u001b[43m \u001b[49m\u001b[43msharing\u001b[49m\u001b[38;5;241;43m=\u001b[39;49m\u001b[43msharing\u001b[49m\u001b[43m,\u001b[49m\u001b[43m \u001b[49m\u001b[38;5;241;43m*\u001b[39;49m\u001b[38;5;241;43m*\u001b[39;49m\u001b[43mkwargs\u001b[49m\u001b[43m)\u001b[49m\n\u001b[1;32m    305\u001b[0m \u001b[38;5;28;01melif\u001b[39;00m mode \u001b[38;5;241m==\u001b[39m \u001b[38;5;124m\"\u001b[39m\u001b[38;5;124mr+\u001b[39m\u001b[38;5;124m\"\u001b[39m:\n\u001b[1;32m    306\u001b[0m     dataset \u001b[38;5;241m=\u001b[39m get_writer_for_path(path, driver\u001b[38;5;241m=\u001b[39mdriver)(\n\u001b[1;32m    307\u001b[0m         path, mode, driver\u001b[38;5;241m=\u001b[39mdriver, sharing\u001b[38;5;241m=\u001b[39msharing, \u001b[38;5;241m*\u001b[39m\u001b[38;5;241m*\u001b[39mkwargs\n\u001b[1;32m    308\u001b[0m     )\n",
      "File \u001b[0;32mrasterio/_base.pyx:312\u001b[0m, in \u001b[0;36mrasterio._base.DatasetBase.__init__\u001b[0;34m()\u001b[0m\n",
      "\u001b[0;31mRasterioIOError\u001b[0m: '/vsis3/usgs-landsat/collection02/level-2/standard/oli-tirs/2021/016/034/LC09_L2SP_016034_20211102_20230507_02_T2/LC09_L2SP_016034_20211102_20230507_02_T2_ST_B10.TIF' does not exist in the file system, and is not recognized as a supported dataset name."
     ]
    }
   ],
   "source": [
    "\n",
    "\n",
    "# Create a reusable query\n",
    "query = {\n",
    "    'y': lat_range,\n",
    "    'x': lon_range,\n",
    "    'time': time_range,\n",
    "    'measurements': measurements,\n",
    "    'resolution': (-60, 60),\n",
    "    'output_crs': 'epsg:6933',\n",
    "    'group_by':'solar_day'\n",
    "}\n",
    "\n",
    "# Load available data from Sentinel-2\n",
    "ds = dc.load(\n",
    "    product=['ls9_c2l2_st_v2'],\n",
    "    **query,\n",
    ")\n",
    "\n",
    "print(ds)\n"
   ]
  },
  {
   "cell_type": "markdown",
   "id": "7da4ff41",
   "metadata": {},
   "source": [
    "### Subheading 1\n",
    "\n",
    "Use subheadings to break up steps within a single section."
   ]
  },
  {
   "cell_type": "code",
   "execution_count": null,
   "id": "7b209aea",
   "metadata": {},
   "outputs": [],
   "source": [
    "# Use code comments for low-level documentation of code\n",
    "b = 2"
   ]
  },
  {
   "cell_type": "markdown",
   "id": "98914fc3",
   "metadata": {},
   "source": [
    "## Heading 2\n",
    "\n",
    "Use markdown text for detailed, descriptive text explaining what the code below does and why it is needed.\n"
   ]
  },
  {
   "cell_type": "code",
   "execution_count": 1,
   "id": "9f55b31c",
   "metadata": {},
   "outputs": [],
   "source": [
    "# Use code comments for low-level documentation of code\n",
    "c = 3"
   ]
  },
  {
   "cell_type": "markdown",
   "id": "a1add747",
   "metadata": {},
   "source": [
    "## Additional information\n",
    "\n",
    "<b>License:</b> The code in this notebook is licensed under the Apache License, Version 2.0. Digital Earth Australia data is licensed under the Creative Commons by Attribution 4.0 license.\n",
    "\n",
    "<b>Contact:</b> If you need assistance, please post a question on the Open Data Cube Slack channel or on the GIS Stack Exchange using the open-data-cube tag (you can view previously asked questions here). If you would like to report an issue with this notebook, you can file one on Github.\n",
    "\n",
    "<b>Last modified:</b> May 2020\n",
    "\n",
    "<b>Compatible datacube version:</b>"
   ]
  },
  {
   "cell_type": "code",
   "execution_count": null,
   "id": "0437ddd5",
   "metadata": {},
   "outputs": [],
   "source": [
    "print(datacube.__version__)"
   ]
  },
  {
   "cell_type": "markdown",
   "id": "b9b4c2e9",
   "metadata": {},
   "source": [
    "## Tags \n",
    "Browse all available tags on the VA Data Cube User Guide's Tags Index "
   ]
  }
 ],
 "metadata": {
  "kernelspec": {
   "display_name": "Python 3 (ipykernel)",
   "language": "python",
   "name": "python3"
  },
  "language_info": {
   "codemirror_mode": {
    "name": "ipython",
    "version": 3
   },
   "file_extension": ".py",
   "mimetype": "text/x-python",
   "name": "python",
   "nbconvert_exporter": "python",
   "pygments_lexer": "ipython3",
   "version": "3.9.7"
  }
 },
 "nbformat": 4,
 "nbformat_minor": 5
}
