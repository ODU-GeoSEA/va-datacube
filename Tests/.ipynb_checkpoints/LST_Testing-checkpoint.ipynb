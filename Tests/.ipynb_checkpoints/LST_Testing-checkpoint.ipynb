{
 "cells": [
  {
   "cell_type": "markdown",
   "id": "b1a961b5",
   "metadata": {},
   "source": [
    "![data cube logo](https://static.wixstatic.com/media/8959d6_a13dc7ece5be4678af57c8f7c1667734~mv2.png/v1/fill/w_279,h_177,al_c,q_85,usm_0.66_1.00_0.01,enc_auto/VSDC_DataCubeSplash_6Partner_edited.png)\n",
    "# Land Surface Temperature Product Testing\n",
    "\n",
    " - Sign up to the VA Datacube (INSERT LINK) to run this notebook interactively from a browser\n",
    " - <b>Compatibility</b>: Notebook currently compatible with both the NCI and DEA Sandbox environments    \n",
    "\n",
    " - <b>Products used</b>:\n",
    "    \n",
    "    products....\n",
    " \n",
    " - <b>Special requirements:</b> An optional description of any special requirements, e.g. If running on the NCI, ensure that\n",
    "    module load otps is run prior to launching this notebook\n",
    " \n",
    " - <b>Prerequisites:</b> An <i>optional</i> list of any notebooks that should be run or content that should be understood\n",
    "    prior to launching this notebook\n",
    " \n",
    " - <b>Notebook Use:</b> If you would like to modify and save this notebook, please copy and paste it into your own folder on the data cube, here is how:\n",
    "\n",
    " \n"
   ]
  },
  {
   "cell_type": "markdown",
   "id": "26bba8c7",
   "metadata": {},
   "source": [
    "## Background\n",
    "\n",
    "\n",
    "An <i>optional</i> overview of the scientific, economic or environmental management issue or challenge being addressed by Digital Earth Australia. For Beginners_Guide or Frequently_Used_Code notebooks, this may include information about why the particular technique or approach is useful or required. If you need to cite a scientific paper or link to a website, use a persistent DOI link if possible and link in-text (e.g. Dhu et al. 2017)."
   ]
  },
  {
   "cell_type": "markdown",
   "id": "c3370de1",
   "metadata": {},
   "source": [
    "## Description\n",
    "\n",
    "A <i>compulsory</i> description of the notebook, including a brief overview of how Digital Earth Australia helps to address the problem set out above. It can be good to include a run-down of the tools/methods that will be demonstrated in the notebook:\n",
    "\n",
    "1. First we do this\n",
    "2. Then we do this\n",
    "3. Finally we do this"
   ]
  },
  {
   "cell_type": "markdown",
   "id": "6a10a543",
   "metadata": {},
   "source": [
    "---------------------------------------------------------------------------------------------------------------------------"
   ]
  },
  {
   "cell_type": "markdown",
   "id": "d1d817a9",
   "metadata": {},
   "source": [
    "## Getting started\n",
    "\n",
    "\n",
    "Provide any particular instructions that the user might need, e.g. To run this analysis, run all the cells in the notebook, starting with the \"Load packages\" cell."
   ]
  },
  {
   "cell_type": "markdown",
   "id": "5881476c",
   "metadata": {},
   "source": [
    "### Load packages\n",
    "Import Python packages that are used for the analysis.\n",
    "\n",
    "Use standard import commands; some are shown below. Begin with any iPython magic commands, followed by standard Python packages, then any additional functionality you need from the Scripts directory."
   ]
  },
  {
   "cell_type": "code",
   "execution_count": 1,
   "id": "1c851db3",
   "metadata": {},
   "outputs": [],
   "source": [
    "%matplotlib inline\n",
    "\n",
    "import datacube\n",
    "import numpy as np\n",
    "import xarray as xr\n",
    "import matplotlib.pyplot as plt\n",
    "\n",
    "from deafrica_tools.load_era5 import load_era5\n",
    "from deafrica_tools.datahandling import load_ard, mostcommon_crs\n",
    "from deafrica_tools.plotting import rgb"
   ]
  },
  {
   "cell_type": "markdown",
   "id": "36877232",
   "metadata": {},
   "source": [
    "### Connect to the datacube\n",
    "\n",
    "Connect to the datacube so we can access DEA data. The app parameter is a unique name for the analysis which is based on the notebook file name"
   ]
  },
  {
   "cell_type": "code",
   "execution_count": 2,
   "id": "fe072223",
   "metadata": {},
   "outputs": [],
   "source": [
    "dc = datacube.Datacube(app='LST_Testing')"
   ]
  },
  {
   "cell_type": "markdown",
   "id": "52e0ded8",
   "metadata": {},
   "source": [
    "### Analysis parameters\n",
    "An optional section to inform the user of any parameters they'll need to configure to run the notebook:\n",
    " - param_name_1: Simple description (e.g. example_value). Advice about appropriate values to choose for this parameter.\n",
    " - param_name_2: Simple description (e.g. example_value). Advice about appropriate values to choose for this parameter.\n",
    "\n",
    " "
   ]
  },
  {
   "cell_type": "code",
   "execution_count": null,
   "id": "eb60c43b",
   "metadata": {},
   "outputs": [],
   "source": [
    "param_name_1 = 'example_value'\n",
    "param_name_2 = 'example_value'"
   ]
  },
  {
   "cell_type": "markdown",
   "id": "bd5d270a",
   "metadata": {},
   "source": [
    "## Heading 1\n",
    "\n",
    "Use headings to break up key steps/stages of the notebook.\n",
    "\n",
    "Use markdown text for detailed, descriptive text explaining what the code below does and why it is needed.\n",
    "\n",
    "<b>Note</b>: Use this markdown format (sparingly) to draw particular attention to an important point or caveat"
   ]
  },
  {
   "cell_type": "code",
   "execution_count": 3,
   "id": "1ff8da02",
   "metadata": {},
   "outputs": [
    {
     "data": {
      "text/html": [
       "<div>\n",
       "<style scoped>\n",
       "    .dataframe tbody tr th:only-of-type {\n",
       "        vertical-align: middle;\n",
       "    }\n",
       "\n",
       "    .dataframe tbody tr th {\n",
       "        vertical-align: top;\n",
       "    }\n",
       "\n",
       "    .dataframe thead th {\n",
       "        text-align: right;\n",
       "    }\n",
       "</style>\n",
       "<table border=\"1\" class=\"dataframe\">\n",
       "  <thead>\n",
       "    <tr style=\"text-align: right;\">\n",
       "      <th></th>\n",
       "      <th>description</th>\n",
       "    </tr>\n",
       "    <tr>\n",
       "      <th>name</th>\n",
       "      <th></th>\n",
       "    </tr>\n",
       "  </thead>\n",
       "  <tbody>\n",
       "    <tr>\n",
       "      <th>ls5_c2l2_st</th>\n",
       "      <td>USGS Landsat 5 Collection 2 Level-2 Surface Te...</td>\n",
       "    </tr>\n",
       "    <tr>\n",
       "      <th>ls5_c2l2_st_v2</th>\n",
       "      <td>USGS Landsat 5 Collection 2 Level-2 Surface Te...</td>\n",
       "    </tr>\n",
       "    <tr>\n",
       "      <th>ls7_c2l2_st</th>\n",
       "      <td>USGS Landsat 7 Collection 2 Level-2 Surface Te...</td>\n",
       "    </tr>\n",
       "    <tr>\n",
       "      <th>ls7_c2l2_st_v2</th>\n",
       "      <td>USGS Landsat 7 Collection 2 Level-2 Surface Te...</td>\n",
       "    </tr>\n",
       "    <tr>\n",
       "      <th>ls8_c2l2_st</th>\n",
       "      <td>USGS Landsat 8 Collection 2 Level-2 Surface Te...</td>\n",
       "    </tr>\n",
       "    <tr>\n",
       "      <th>ls8_c2l2_st_v2</th>\n",
       "      <td>USGS Landsat 8 Collection 2 Level-2 Surface Te...</td>\n",
       "    </tr>\n",
       "    <tr>\n",
       "      <th>ls9_c2l2_st</th>\n",
       "      <td>USGS Landsat 9 Collection 2 Level-2 Surface Te...</td>\n",
       "    </tr>\n",
       "    <tr>\n",
       "      <th>ls9_c2l2_st_v2</th>\n",
       "      <td>USGS Landsat 9 Collection 2 Level-2 Surface Te...</td>\n",
       "    </tr>\n",
       "  </tbody>\n",
       "</table>\n",
       "</div>"
      ],
      "text/plain": [
       "                                                      description\n",
       "name                                                             \n",
       "ls5_c2l2_st     USGS Landsat 5 Collection 2 Level-2 Surface Te...\n",
       "ls5_c2l2_st_v2  USGS Landsat 5 Collection 2 Level-2 Surface Te...\n",
       "ls7_c2l2_st     USGS Landsat 7 Collection 2 Level-2 Surface Te...\n",
       "ls7_c2l2_st_v2  USGS Landsat 7 Collection 2 Level-2 Surface Te...\n",
       "ls8_c2l2_st     USGS Landsat 8 Collection 2 Level-2 Surface Te...\n",
       "ls8_c2l2_st_v2  USGS Landsat 8 Collection 2 Level-2 Surface Te...\n",
       "ls9_c2l2_st     USGS Landsat 9 Collection 2 Level-2 Surface Te...\n",
       "ls9_c2l2_st_v2  USGS Landsat 9 Collection 2 Level-2 Surface Te..."
      ]
     },
     "execution_count": 3,
     "metadata": {},
     "output_type": "execute_result"
    }
   ],
   "source": [
    "# List Landsat products available in DE Africa\n",
    "dc_products = dc.list_products()\n",
    "display_columns = ['name', 'description']\n",
    "dc_products[dc_products.name.str.contains(\n",
    "    '_st').fillna(\n",
    "        False)][display_columns].set_index('name')"
   ]
  },
  {
   "cell_type": "code",
   "execution_count": null,
   "id": "4c66d737-327a-4745-a321-c31fbc13f1ce",
   "metadata": {},
   "outputs": [],
   "source": []
  },
  {
   "cell_type": "code",
   "execution_count": null,
   "id": "a5486e80-a9bd-4ddb-be6c-2ff849847d0c",
   "metadata": {},
   "outputs": [],
   "source": []
  },
  {
   "cell_type": "code",
   "execution_count": null,
   "id": "308bdec4-d219-453d-bb59-6aa4c27c8940",
   "metadata": {},
   "outputs": [],
   "source": []
  },
  {
   "cell_type": "markdown",
   "id": "7da4ff41",
   "metadata": {},
   "source": [
    "### Subheading 1\n",
    "\n",
    "Use subheadings to break up steps within a single section."
   ]
  },
  {
   "cell_type": "code",
   "execution_count": null,
   "id": "7b209aea",
   "metadata": {},
   "outputs": [],
   "source": [
    "# Use code comments for low-level documentation of code\n",
    "b = 2"
   ]
  },
  {
   "cell_type": "markdown",
   "id": "98914fc3",
   "metadata": {},
   "source": [
    "## Heading 2\n",
    "\n",
    "Use markdown text for detailed, descriptive text explaining what the code below does and why it is needed.\n"
   ]
  },
  {
   "cell_type": "code",
   "execution_count": 1,
   "id": "9f55b31c",
   "metadata": {},
   "outputs": [],
   "source": [
    "# Use code comments for low-level documentation of code\n",
    "c = 3"
   ]
  },
  {
   "cell_type": "markdown",
   "id": "a1add747",
   "metadata": {},
   "source": [
    "## Additional information\n",
    "\n",
    "<b>License:</b> The code in this notebook is licensed under the Apache License, Version 2.0. Digital Earth Australia data is licensed under the Creative Commons by Attribution 4.0 license.\n",
    "\n",
    "<b>Contact:</b> If you need assistance, please post a question on the Open Data Cube Slack channel or on the GIS Stack Exchange using the open-data-cube tag (you can view previously asked questions here). If you would like to report an issue with this notebook, you can file one on Github.\n",
    "\n",
    "<b>Last modified:</b> May 2020\n",
    "\n",
    "<b>Compatible datacube version:</b>"
   ]
  },
  {
   "cell_type": "code",
   "execution_count": null,
   "id": "0437ddd5",
   "metadata": {},
   "outputs": [],
   "source": [
    "print(datacube.__version__)"
   ]
  },
  {
   "cell_type": "markdown",
   "id": "b9b4c2e9",
   "metadata": {},
   "source": [
    "## Tags \n",
    "Browse all available tags on the VA Data Cube User Guide's Tags Index "
   ]
  }
 ],
 "metadata": {
  "kernelspec": {
   "display_name": "Python 3 (ipykernel)",
   "language": "python",
   "name": "python3"
  },
  "language_info": {
   "codemirror_mode": {
    "name": "ipython",
    "version": 3
   },
   "file_extension": ".py",
   "mimetype": "text/x-python",
   "name": "python",
   "nbconvert_exporter": "python",
   "pygments_lexer": "ipython3",
   "version": "3.9.7"
  }
 },
 "nbformat": 4,
 "nbformat_minor": 5
}
